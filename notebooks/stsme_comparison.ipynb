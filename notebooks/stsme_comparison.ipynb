{
 "cells": [
  {
   "cell_type": "markdown",
   "metadata": {},
   "source": [
    "# stSME Comparison\n",
    "\n",
    "This tutorial shows the stSME normalization effect between of two scenarios: \n",
    "- (1) normal (without stSME) \n",
    "- (2) stSME applied on raw gene counts"
   ]
  },
  {
   "cell_type": "markdown",
   "metadata": {},
   "source": [
    "In this tutorial we use **Mouse Brain (Coronal)** Visium dataset from [10x genomics website](https://support.10xgenomics.com/spatial-gene-expression/datasets/1.0.0/V1_Adult_Mouse_Brain)."
   ]
  },
  {
   "cell_type": "code",
   "metadata": {},
   "source": [
    "import scanpy as sc\n",
    "import stlearn as st\n",
    "import pathlib as pathlib\n",
    "import numpy as np\n",
    "import random as random\n",
    "import os as os\n",
    "\n",
    "st.settings.set_figure_params(dpi=120)\n",
    "\n",
    "# Make sure all the seeds are set\n",
    "seed = 0\n",
    "np.random.seed(seed)\n",
    "random.seed(seed)\n",
    "os.environ['PYTHONHASHSEED'] = str(seed)\n",
    "\n",
    "# Ignore all warnings\n",
    "import warnings\n",
    "\n",
    "warnings.filterwarnings(\"ignore\")"
   ],
   "outputs": [],
   "execution_count": null
  },
  {
   "metadata": {},
   "cell_type": "code",
   "source": "st.settings.datasetdir =  pathlib.Path.cwd().parent / \"data\"",
   "outputs": [],
   "execution_count": null
  },
  {
   "metadata": {},
   "cell_type": "code",
   "source": [
    "data = sc.datasets.visium_sge(sample_id=\"V1_Adult_Mouse_Brain\")\n",
    "data = st.convert_scanpy(data)"
   ],
   "outputs": [],
   "execution_count": null
  },
  {
   "cell_type": "code",
   "metadata": {},
   "source": [
    "# pre-processing for gene count table\n",
    "st.pp.filter_genes(data, min_cells=1)\n",
    "st.pp.normalize_total(data)\n",
    "st.pp.log1p(data)"
   ],
   "outputs": [],
   "execution_count": null
  },
  {
   "cell_type": "code",
   "metadata": {},
   "source": [
    "# pre-processing for spot image\n",
    "st.pp.tiling(data, out_path=\"tiling\")\n",
    "\n",
    "# this step uses deep learning model to extract high-level features from tile images\n",
    "# may need few minutes to be completed\n",
    "st.pp.extract_feature(data)"
   ],
   "outputs": [],
   "execution_count": null
  },
  {
   "cell_type": "code",
   "metadata": {},
   "source": [
    "# run PCA for gene expression data\n",
    "st.em.run_pca(data, n_comps=50)"
   ],
   "outputs": [],
   "execution_count": null
  },
  {
   "cell_type": "markdown",
   "metadata": {},
   "source": [
    "### (1) normal (without stSME) "
   ]
  },
  {
   "cell_type": "code",
   "metadata": {},
   "source": [
    "data_normal = data.copy()"
   ],
   "outputs": [],
   "execution_count": null
  },
  {
   "cell_type": "markdown",
   "metadata": {},
   "source": [
    "#### marker gene for CA3"
   ]
  },
  {
   "cell_type": "code",
   "metadata": {},
   "source": [
    "i = \"Lhfpl1\"\n",
    "st.pl.gene_plot(data_normal, gene_symbols=i, size=3)"
   ],
   "outputs": [],
   "execution_count": null
  },
  {
   "cell_type": "markdown",
   "metadata": {},
   "source": [
    "#### marker gene for DG"
   ]
  },
  {
   "cell_type": "code",
   "metadata": {},
   "source": [
    "i = \"Pla2g2f\"\n",
    "st.pl.gene_plot(data_normal, gene_symbols=i, size=3)"
   ],
   "outputs": [],
   "execution_count": null
  },
  {
   "cell_type": "markdown",
   "metadata": {},
   "source": [
    "### (2) stSME applied on raw gene counts"
   ]
  },
  {
   "cell_type": "code",
   "metadata": {},
   "source": [
    "data_SME = data.copy()\n",
    "# apply stSME to normalise log transformed data\n",
    "st.spatial.SME.SME_normalize(data_SME, use_data=\"raw\")\n",
    "data_SME.X = data_SME.obsm['raw_SME_normalized']\n",
    "st.em.run_pca(data_SME, n_comps=50)"
   ],
   "outputs": [],
   "execution_count": null
  },
  {
   "cell_type": "markdown",
   "metadata": {},
   "source": [
    "#### marker gene for CA3"
   ]
  },
  {
   "cell_type": "code",
   "metadata": {},
   "source": [
    "i = \"Lhfpl1\"\n",
    "st.pl.gene_plot(data_SME, gene_symbols=i, size=3)"
   ],
   "outputs": [],
   "execution_count": null
  },
  {
   "cell_type": "markdown",
   "metadata": {},
   "source": [
    "#### marker gene for DG"
   ]
  },
  {
   "cell_type": "code",
   "metadata": {},
   "source": [
    "i = \"Pla2g2f\"\n",
    "st.pl.gene_plot(data_SME, gene_symbols=i, size=3)"
   ],
   "outputs": [],
   "execution_count": null
  },
  {
   "cell_type": "markdown",
   "metadata": {},
   "source": "<b>Tutorial by Xiao Tan</b>"
  }
 ],
 "metadata": {
  "kernelspec": {
   "display_name": "Python 3 (ipykernel)",
   "language": "python",
   "name": "python3"
  },
  "language_info": {
   "codemirror_mode": {
    "name": "ipython",
    "version": 3
   },
   "file_extension": ".py",
   "mimetype": "text/x-python",
   "name": "python",
   "nbconvert_exporter": "python",
   "pygments_lexer": "ipython3",
   "version": "3.8.13"
  }
 },
 "nbformat": 4,
 "nbformat_minor": 4
}
