{
 "cells": [
  {
   "cell_type": "markdown",
   "metadata": {},
   "source": "# Pseudotime Spatial Trajectory Inference"
  },
  {
   "cell_type": "markdown",
   "metadata": {},
   "source": [
    "In this tutorial, we are using both spatial information and gene expression profile to perform spatial trajectory inference to explore the progression of Ductal Carcinoma in situ (DCIS) - Invasive Ductal Cancer (IDC)\n",
    "\n",
    "Source: https://www.10xgenomics.com/datasets/human-breast-cancer-block-a-section-1-1-standard-1-1-0"
   ]
  },
  {
   "cell_type": "markdown",
   "metadata": {},
   "source": [
    "## 1. Preparation"
   ]
  },
  {
   "cell_type": "markdown",
   "metadata": {},
   "source": [
    "We are trying to keep it focus on spatial trajectory inference then every step from reading data, processing to clustering, we will give the code here to easier for user to use."
   ]
  },
  {
   "cell_type": "markdown",
   "metadata": {},
   "source": [
    "### Read and preprocess data"
   ]
  },
  {
   "cell_type": "code",
   "metadata": {},
   "source": [
    "import stlearn as st\n",
    "import pathlib as pathlib\n",
    "\n",
    "st.settings.set_figure_params(dpi=120)\n",
    "\n",
    "# Ignore all warnings\n",
    "import warnings\n",
    "warnings.filterwarnings(\"ignore\")"
   ],
   "outputs": [],
   "execution_count": null
  },
  {
   "metadata": {},
   "cell_type": "code",
   "source": [
    "# Read raw data\n",
    "st.settings.datasetdir = pathlib.Path.cwd().parent / \"data\"\n",
    "data = st.datasets.visium_sge(sample_id=\"V1_Breast_Cancer_Block_A_Section_1\")\n",
    "data = st.convert_scanpy(data)"
   ],
   "outputs": [],
   "execution_count": null
  },
  {
   "metadata": {},
   "cell_type": "code",
   "source": [
    "# Save raw_count\n",
    "data.layers[\"raw_count\"] = data.X\n",
    "# Preprocessing\n",
    "st.pp.filter_genes(data, min_cells=3)\n",
    "st.pp.normalize_total(data)\n",
    "st.pp.log1p(data)\n",
    "# Keep raw data\n",
    "data.raw = data\n",
    "st.pp.scale(data)"
   ],
   "outputs": [],
   "execution_count": null
  },
  {
   "cell_type": "markdown",
   "metadata": {},
   "source": [
    "### Clustering data"
   ]
  },
  {
   "cell_type": "code",
   "metadata": {},
   "source": [
    "# Run PCA\n",
    "st.em.run_pca(data, n_comps=50, random_state=0)\n",
    "# Tiling image\n",
    "st.pp.tiling(data, out_path=\"tiling\", crop_size=40)\n",
    "# Using Deep Learning to extract feature\n",
    "st.pp.extract_feature(data)\n",
    "# Apply stSME spatial-PCA option\n",
    "st.spatial.morphology.adjust(data, use_data=\"X_pca\", radius=50, method=\"mean\")\n",
    "st.pp.neighbors(data, n_neighbors=25, use_rep='X_pca_morphology', random_state=0)\n",
    "st.tl.clustering.louvain(data, random_state=0)"
   ],
   "outputs": [],
   "execution_count": null
  },
  {
   "cell_type": "code",
   "metadata": {},
   "source": "st.pl.cluster_plot(data, use_label=\"louvain\", image_alpha=1, size=7)",
   "outputs": [],
   "execution_count": null
  },
  {
   "cell_type": "code",
   "metadata": {},
   "source": [
    "st.add.annotation(data, label_list=['Fatty tissue,immune/lymphoid 1 MALAT1+',\n",
    "                                    'Invasive cancer,fibrous tissue 1 CXCL14+',\n",
    "                                    'Invasive cancer,fibrous tissue 2 CRISP3+',\n",
    "                                    'Invasive cancer,fibrous tissue, fatty tissue',\n",
    "                                    'Fatty tissue,immune/lymphoid 2 IGKC+',\n",
    "                                    'Fibrous tissue',\n",
    "                                    'Invasive cancer,fibrous tissue (DCIS)',\n",
    "                                    'Fatty tissue, Fibrous tissue',\n",
    "                                    'Invasive cancer,immune/lymphoid (IDC)',\n",
    "                                    'Invasive cancer,fatty tissue 3 MUC5B+',\n",
    "                                    'Fatty tissue'],\n",
    "                  use_label=\"louvain\")\n",
    "st.pl.cluster_plot(data, use_label=\"louvain_anno\", image_alpha=1, size=7)"
   ],
   "outputs": [],
   "execution_count": null
  },
  {
   "cell_type": "markdown",
   "metadata": {},
   "source": [
    "## 2. Spatial trajectory inference"
   ]
  },
  {
   "cell_type": "markdown",
   "metadata": {},
   "source": [
    "### Choosing root\n",
    "\n",
    "3733 is the index of the spot that we chose as root. It in the DCIS cluster (6).\n",
    "We recommend the root spot should be in the end/begin of a cluster in UMAP space. You can find min/max point of a cluster in UMAP as root."
   ]
  },
  {
   "cell_type": "code",
   "metadata": {},
   "source": [
    "data.uns[\"iroot\"] = st.spatial.trajectory.set_root(data, use_label=\"louvain\", cluster=\"6\", use_raw=True)\n",
    "st.spatial.trajectory.pseudotime(data, eps=50, use_rep=\"X_pca\", use_label=\"louvain\")"
   ],
   "outputs": [],
   "execution_count": null
  },
  {
   "cell_type": "markdown",
   "metadata": {},
   "source": [
    "### Spatial trajectory inference - global level\n",
    "\n",
    "We run the global level of pseudo-time-space (PSTS) method to reconstruct the spatial trajectory between cluster 6 (DCIS) and 8 (lesions IDC)"
   ]
  },
  {
   "cell_type": "code",
   "metadata": {},
   "source": "st.spatial.trajectory.pseudotimespace_global(data, use_label=\"louvain\", list_clusters=[\"6\", \"8\"])",
   "outputs": [],
   "execution_count": null
  },
  {
   "cell_type": "code",
   "metadata": {},
   "source": "st.pl.cluster_plot(data, use_label=\"louvain\", show_trajectories=True, list_clusters=[\"6\", \"8\"], show_subcluster=True)",
   "outputs": [],
   "execution_count": null
  },
  {
   "cell_type": "code",
   "metadata": {},
   "source": [
    "st.pl.trajectory.tree_plot(data)"
   ],
   "outputs": [],
   "execution_count": null
  },
  {
   "cell_type": "markdown",
   "metadata": {},
   "source": [
    "### Transition markers detection\n",
    "\n",
    "Based on the spatial trajectory/tree plot, we can see 2 clades are started from sub-cluster 6 and 15.\n",
    "Then we run the function to detect the highly correlated genes with the PSTS values."
   ]
  },
  {
   "cell_type": "code",
   "metadata": {},
   "source": "st.spatial.trajectory.detect_transition_markers_clades(data, clade=6, use_raw_count=False, cutoff_spearman=0.4)",
   "outputs": [],
   "execution_count": null
  },
  {
   "cell_type": "code",
   "metadata": {},
   "source": "st.spatial.trajectory.detect_transition_markers_clades(data, clade=15, use_raw_count=False, cutoff_spearman=0.4)",
   "outputs": [],
   "execution_count": null
  },
  {
   "cell_type": "code",
   "metadata": {},
   "source": "st.spatial.trajectory.detect_transition_markers_clades(data, clade=21, use_raw_count=False, cutoff_spearman=0.4)",
   "outputs": [],
   "execution_count": null
  },
  {
   "cell_type": "code",
   "metadata": {},
   "source": [
    "data.uns['clade_6'] = data.uns['clade_6'][data.uns['clade_6']['gene'].map(lambda x: \"RPL\" not in x)]\n",
    "data.uns['clade_15'] = data.uns['clade_15'][data.uns['clade_15']['gene'].map(lambda x: \"RPL\" not in x)]\n",
    "data.uns['clade_21'] = data.uns['clade_21'][data.uns['clade_21']['gene'].map(lambda x: \"RPL\" not in x)]\n",
    "data.uns['clade_6'] = data.uns['clade_6'][data.uns['clade_6']['gene'].map(lambda x: \"RPS\" not in x)]\n",
    "data.uns['clade_15'] = data.uns['clade_15'][data.uns['clade_15']['gene'].map(lambda x: \"RPS\" not in x)]\n",
    "data.uns['clade_21'] = data.uns['clade_21'][data.uns['clade_21']['gene'].map(lambda x: \"RPS\" not in x)]"
   ],
   "outputs": [],
   "execution_count": null
  },
  {
   "cell_type": "markdown",
   "metadata": {},
   "source": [
    "For the transition markers plot, genes from left side (red) are negatively correlated with the spatial trajectory and genes from right side (blue) are positively correlated with the spatial trajectory."
   ]
  },
  {
   "cell_type": "code",
   "metadata": {},
   "source": "st.pl.trajectory.transition_markers_plot(data, top_genes=30, trajectory=\"clade_6\")",
   "outputs": [],
   "execution_count": null
  },
  {
   "cell_type": "code",
   "metadata": {},
   "source": "st.pl.trajectory.transition_markers_plot(data, top_genes=30, trajectory=\"clade_15\")",
   "outputs": [],
   "execution_count": null
  },
  {
   "cell_type": "code",
   "metadata": {},
   "source": "st.pl.trajectory.transition_markers_plot(data, top_genes=30, trajectory=\"clade_21\")",
   "outputs": [],
   "execution_count": null
  },
  {
   "cell_type": "code",
   "metadata": {},
   "source": "st.spatial.trajectory.compare_transitions(data, trajectories=[\"clade_15\", \"clade_21\"])",
   "outputs": [],
   "execution_count": null
  },
  {
   "cell_type": "code",
   "metadata": {},
   "source": [
    "st.pl.trajectory.DE_transition_plot(data)"
   ],
   "outputs": [],
   "execution_count": null
  },
  {
   "cell_type": "markdown",
   "metadata": {},
   "source": [
    "We also provide a function to compare the transition markers between two clades."
   ]
  }
 ],
 "metadata": {
  "kernelspec": {
   "display_name": "Python 3",
   "language": "python",
   "name": "python3"
  },
  "language_info": {
   "codemirror_mode": {
    "name": "ipython",
    "version": 3
   },
   "file_extension": ".py",
   "mimetype": "text/x-python",
   "name": "python",
   "nbconvert_exporter": "python",
   "pygments_lexer": "ipython3",
   "version": "3.8.6"
  }
 },
 "nbformat": 4,
 "nbformat_minor": 4
}
