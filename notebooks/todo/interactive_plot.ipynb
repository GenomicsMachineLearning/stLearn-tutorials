{
 "cells": [
  {
   "metadata": {},
   "cell_type": "markdown",
   "source": "# Interactive stLearn"
  },
  {
   "cell_type": "markdown",
   "metadata": {},
   "source": [
    "In this tutorial, we introduce several functions for interactive plotting to explore the progression of Ductal Carcinoma in situ (DCIS) - Invasive Ductal Cancer (IDC)\n",
    "\n",
    "Source: https://support.10xgenomics.com/spatial-gene-expression/datasets\n",
    "\n",
    "If you are using jupyter lab, then you need to run these two lines of code:\n",
    "\n",
    "```\n",
    "jupyter labextension install @jupyter-widgets/jupyterlab-manager\n",
    "jupyter labextension install @bokeh/jupyter_bokeh\n",
    "```"
   ]
  },
  {
   "cell_type": "code",
   "metadata": {},
   "source": [
    "import stlearn as st\n",
    "# Ingore all warnings\n",
    "import warnings\n",
    "warnings.filterwarnings(\"ignore\")"
   ],
   "outputs": [],
   "execution_count": null
  },
  {
   "cell_type": "code",
   "metadata": {},
   "source": [
    "### If encounter issues with Bokeh loading, below may be helpful ####\n",
    "import os \n",
    "os.environ[\"BOKEH_ALLOW_WS_ORIGIN\"] = \"localhost:8889\""
   ],
   "outputs": [],
   "execution_count": null
  },
  {
   "cell_type": "markdown",
   "metadata": {},
   "source": [
    "We created a processed Visium data and you can now plot all interactive plots with stLearn."
   ]
  },
  {
   "cell_type": "code",
   "metadata": {},
   "source": [
    "#data = st.dataset.example_bcba() # TODO update this function\n",
    "import scanpy as sc\n",
    "data = sc.read_h5ad('/Volumes/GML001-Q1851/Brad/breast_LRCCIResults.h5ad')"
   ],
   "outputs": [],
   "execution_count": null
  },
  {
   "cell_type": "code",
   "metadata": {},
   "source": [
    "data"
   ],
   "outputs": [],
   "execution_count": null
  },
  {
   "cell_type": "markdown",
   "metadata": {},
   "source": [
    "### Interactive gene plot "
   ]
  },
  {
   "cell_type": "markdown",
   "metadata": {},
   "source": [
    "We provide several options:\n",
    "\n",
    "- `Gene`: Choose the available gene in the dataset\n",
    "\n",
    "- `Spot alpha`: Choose the opacity value of spots\n",
    "\n",
    "- `Tissue alpha`: Choose the opacity of H&E image\n",
    "\n",
    "- `Spot size`: Choose the size of the spots"
   ]
  },
  {
   "cell_type": "code",
   "metadata": {},
   "source": [
    "st.pl.gene_plot_interactive(data)"
   ],
   "outputs": [],
   "execution_count": null
  },
  {
   "cell_type": "markdown",
   "metadata": {},
   "source": [
    "<img src=\"../_static/img/bokeh/gene_plot.png\">"
   ]
  },
  {
   "cell_type": "markdown",
   "metadata": {},
   "source": [
    "### Interactive cluster plot with Pseudo-time-space results"
   ]
  },
  {
   "cell_type": "markdown",
   "metadata": {},
   "source": [
    "We provide several options:\n",
    "\n",
    "- `Spot alpha`: Choose the opacity value of spots\n",
    "\n",
    "- `Tissue alpha`: Choose the opacity of H&E image\n",
    "\n",
    "- `Spot size`: Choose the size of the spots\n",
    "\n",
    "- `Choose clusters`: Choose clusters to be displayed\n",
    "\n",
    "- `Show spatial trajectories`: Option to show spatial trajectories"
   ]
  },
  {
   "cell_type": "code",
   "metadata": {},
   "source": [
    "st.pl.cluster_plot_interactive(data, use_label=\"louvain\")"
   ],
   "outputs": [],
   "execution_count": null
  },
  {
   "cell_type": "markdown",
   "metadata": {},
   "source": [
    "<img src=\"../_static/img/bokeh/cluster_psts.png\">"
   ]
  },
  {
   "cell_type": "markdown",
   "metadata": {},
   "source": [
    "### Ligand-receptor interactions plot\n",
    "\n",
    "Displays the LRs score for significant spots.\n",
    "\n",
    "Note that need to perform stLearn LR analysis first.\n",
    "\n",
    "Options:\n",
    "\n",
    "- `Ligand receptor`: Choose the ligand-receptor results to view; ranked from most no. of significant spots to least\n",
    "\n",
    "- `Tissue alpha`: Choose the opacity of H&E image\n",
    "\n",
    "- `Spot size`: Choose the size of the spots"
   ]
  },
  {
   "cell_type": "code",
   "metadata": {},
   "source": [
    "st.pl.lr_plot_interactive(data)"
   ],
   "outputs": [],
   "execution_count": null
  },
  {
   "cell_type": "markdown",
   "metadata": {},
   "source": [
    "<img src=\"../_static/img/bokeh/lr_plot.png\">"
   ]
  },
  {
   "cell_type": "markdown",
   "metadata": {},
   "source": [
    "### Cell-cell interaction spatial plot \n",
    "\n",
    "Displays significant Cell type-cell type interactions for selected ligand-receptor pairs in their spatial context.\n",
    "\n",
    "Note that need to performed stlearn cci analysis first.\n",
    "\n",
    "Options:\n",
    "\n",
    "- `Cell-type annotation select`: Choose the cell type labels for which CCI permutation has been performed.\n",
    "\n",
    "- `Ligand receptor`: Choose the ligand-receptor that facilitates the CCIs; ranked from most no. of significant spots to least\n",
    "\n",
    "- `Tissue alpha`: Choose the opacity of H&E image\n",
    "\n",
    "- `Spot size`: Choose the size of the spots\n",
    "\n",
    "- `Arrow size`: The size of the arrows; direction indicates predicted direction of interaction (ligand->receptor)"
   ]
  },
  {
   "cell_type": "code",
   "metadata": {},
   "source": [
    "st.pl.spatialcci_plot_interactive(data)"
   ],
   "outputs": [],
   "execution_count": null
  },
  {
   "cell_type": "markdown",
   "metadata": {},
   "source": [
    "<img src=\"../_static/img/bokeh/spatialcci.png\">"
   ]
  }
 ],
 "metadata": {
  "kernelspec": {
   "display_name": "Python 3",
   "language": "python",
   "name": "python3"
  },
  "language_info": {
   "codemirror_mode": {
    "name": "ipython",
    "version": 3
   },
   "file_extension": ".py",
   "mimetype": "text/x-python",
   "name": "python",
   "nbconvert_exporter": "python",
   "pygments_lexer": "ipython3",
   "version": "3.8.12"
  }
 },
 "nbformat": 4,
 "nbformat_minor": 4
}
