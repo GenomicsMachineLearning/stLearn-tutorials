{
 "cells": [
  {
   "cell_type": "markdown",
   "metadata": {},
   "source": [
    "# Read any spatial omics and transfer from other tools"
   ]
  },
  {
   "cell_type": "markdown",
   "metadata": {},
   "source": [
    "Here is the list of input you need to prepare:\n",
    "\n",
    "- count matrix\n",
    "- spatial location\n",
    "- image path (optional)\n"
   ]
  },
  {
   "cell_type": "markdown",
   "metadata": {},
   "source": [
    "First, the count matrix should be an Pandas Dataframe with columns as gene names and rows as barcodes"
   ]
  },
  {
   "cell_type": "code",
   "metadata": {},
   "source": [
    "count_matrix"
   ],
   "outputs": [],
   "execution_count": null
  },
  {
   "cell_type": "markdown",
   "metadata": {},
   "source": [
    "The spatial information of the data should also be a Pandas Dataframe with two columns `imagecol` (X) and `imagerow` (Y)."
   ]
  },
  {
   "cell_type": "code",
   "metadata": {},
   "source": [
    "spatial"
   ],
   "outputs": [],
   "execution_count": null
  },
  {
   "cell_type": "markdown",
   "metadata": {},
   "source": [
    "The image path is optional. If you don't provide any image, the background will be `'black'` or `'white'`."
   ]
  },
  {
   "cell_type": "markdown",
   "metadata": {},
   "source": [
    "### Create the object for stLearn"
   ]
  },
  {
   "cell_type": "code",
   "metadata": {},
   "source": [
    "import stlearn as st\n",
    "adata = st.create_stlearn(count=count_matrix,spatial=spatial,library_id=\"Sample_test\", scale=1,background_color=\"white\")"
   ],
   "outputs": [],
   "execution_count": null
  },
  {
   "cell_type": "code",
   "metadata": {},
   "source": [
    "adata"
   ],
   "outputs": [],
   "execution_count": null
  },
  {
   "cell_type": "markdown",
   "metadata": {},
   "source": [
    "### Quality control plot"
   ]
  },
  {
   "cell_type": "code",
   "metadata": {},
   "source": [
    "st.pl.QC_plot(adata)"
   ],
   "outputs": [],
   "execution_count": null
  },
  {
   "cell_type": "markdown",
   "metadata": {},
   "source": [
    "### An example of gene plot"
   ]
  },
  {
   "cell_type": "code",
   "metadata": {},
   "source": [
    "st.pl.gene_plot(adata,gene_symbols=\"Gfap\")"
   ],
   "outputs": [],
   "execution_count": null
  },
  {
   "cell_type": "markdown",
   "metadata": {},
   "source": [
    "### Add metadata"
   ]
  },
  {
   "cell_type": "markdown",
   "metadata": {},
   "source": [
    "stLearn core object is using AnnData then you can transfer the clustering results to `adata.obs`. For example, you have clustering results from Seurat `seurat_results` (should be a numpy array), and then you can plot it with `stlearn.pl.cluster_plot` and `use_label == \"seurat\"` :"
   ]
  },
  {
   "cell_type": "code",
   "metadata": {},
   "source": [
    "adata.obs[\"seurat\"] = pd.Categorical(seurat_results)"
   ],
   "outputs": [],
   "execution_count": null
  }
 ],
 "metadata": {
  "kernelspec": {
   "display_name": "Python 3",
   "language": "python",
   "name": "python3"
  },
  "language_info": {
   "codemirror_mode": {
    "name": "ipython",
    "version": 3
   },
   "file_extension": ".py",
   "mimetype": "text/x-python",
   "name": "python",
   "nbconvert_exporter": "python",
   "pygments_lexer": "ipython3",
   "version": "3.8.2"
  }
 },
 "nbformat": 4,
 "nbformat_minor": 4
}
