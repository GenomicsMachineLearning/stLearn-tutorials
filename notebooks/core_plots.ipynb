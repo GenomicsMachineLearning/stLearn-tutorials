{
 "cells": [
  {
   "cell_type": "markdown",
   "metadata": {},
   "source": [
    "# stLearn - Core plotting functions\n",
    "\n",
    "Here we want to introduce several visualization functions in stLearn.\n",
    "\n",
    "Source: https://www.10xgenomics.com/datasets/human-breast-cancer-block-a-section-1-1-standard-1-1-0\n"
   ]
  },
  {
   "cell_type": "markdown",
   "metadata": {},
   "source": [
    "### Loading processed data"
   ]
  },
  {
   "cell_type": "code",
   "metadata": {},
   "source": [
    "import stlearn as st\n",
    "import pathlib as pathlib\n",
    "import pandas as pd\n",
    "\n",
    "st.settings.set_figure_params(dpi=120)\n",
    "\n",
    "# Ignore all warnings\n",
    "import warnings\n",
    "warnings.filterwarnings(\"ignore\")"
   ],
   "outputs": [],
   "execution_count": null
  },
  {
   "cell_type": "code",
   "metadata": {},
   "source": [
    "# Read raw data\n",
    "# Setup download directory and get data\n",
    "st.settings.datasetdir =  pathlib.Path.cwd().parent / \"data\"\n",
    "sample_id = \"V1_Breast_Cancer_Block_A_Section_1\"\n",
    "adata = st.datasets.visium_sge(sample_id=sample_id)\n",
    "adata = st.convert_scanpy(adata)"
   ],
   "outputs": [],
   "execution_count": null
  },
  {
   "metadata": {},
   "cell_type": "code",
   "source": [
    "# Adding the label transfer results\n",
    "project_root = pathlib.Path.cwd().parent\n",
    "annotation_path = project_root / \"annotations\"\n",
    "cell_types = annotation_path / f\"{sample_id}_cell_type_proportions.csv\"\n",
    "spot_mixtures = pd.read_csv(cell_types, index_col=0)\n",
    "aligned_spot_mixtures = spot_mixtures.reindex(adata.obs_names, fill_value=0)\n",
    "labels = aligned_spot_mixtures.idxmax(axis=1)\n",
    "labels.name = \"cell_type\"\n",
    "adata.obs['cell_type'] = labels # Adding the dominant cell type labels per spot\n",
    "adata.obs['cell_type'] = adata.obs['cell_type'].astype('category')\n",
    "adata.uns['cell_type'] = aligned_spot_mixtures"
   ],
   "outputs": [],
   "execution_count": null
  },
  {
   "metadata": {},
   "cell_type": "code",
   "source": [
    "adata_processed = adata.copy()\n",
    "st.pp.filter_genes(adata_processed, min_cells=3)\n",
    "st.pp.normalize_total(adata_processed)\n",
    "st.pp.log1p(adata_processed)"
   ],
   "outputs": [],
   "execution_count": null
  },
  {
   "metadata": {},
   "cell_type": "code",
   "source": [
    "st.em.run_pca(adata_processed, n_comps=50, random_state=0)\n",
    "st.pp.neighbors(adata_processed, n_neighbors=25, use_rep='X_pca', random_state=0)\n",
    "st.tl.clustering.louvain(adata_processed, resolution=1.15, random_state=0)"
   ],
   "outputs": [],
   "execution_count": null
  },
  {
   "cell_type": "markdown",
   "metadata": {},
   "source": [
    "### Gene plot"
   ]
  },
  {
   "cell_type": "markdown",
   "metadata": {},
   "source": [
    "Here is the standard plot for gene expression, we provide 2 options for single genes and multiple genes:"
   ]
  },
  {
   "cell_type": "code",
   "metadata": {},
   "source": [
    "st.pl.gene_plot(adata, gene_symbols=\"BRCA1\")"
   ],
   "outputs": [],
   "execution_count": null
  },
  {
   "cell_type": "markdown",
   "metadata": {},
   "source": [
    "For multiple genes, you can combine multiple genes by `'CumSum'`cummulative sum or `'NaiveMean'`naive mean:"
   ]
  },
  {
   "cell_type": "code",
   "metadata": {},
   "source": [
    "st.pl.gene_plot(adata, gene_symbols=[\"BRCA1\",\"BRCA2\"], method=\"CumSum\")"
   ],
   "outputs": [],
   "execution_count": null
  },
  {
   "cell_type": "code",
   "metadata": {},
   "source": [
    "st.pl.gene_plot(adata, gene_symbols=[\"BRCA1\",\"BRCA2\"], method=\"NaiveMean\")"
   ],
   "outputs": [],
   "execution_count": null
  },
  {
   "cell_type": "markdown",
   "metadata": {},
   "source": [
    "You also can plot genes with contour plot to see clearer about the distribution of genes:"
   ]
  },
  {
   "cell_type": "code",
   "metadata": {},
   "source": [
    "st.pl.gene_plot(adata, gene_symbols=\"GAPDH\", contour=True,cell_alpha=0.5)"
   ],
   "outputs": [],
   "execution_count": null
  },
  {
   "cell_type": "markdown",
   "metadata": {},
   "source": [
    "You can change the `step_size` to cut the range of display in contour"
   ]
  },
  {
   "cell_type": "code",
   "metadata": {},
   "source": [
    "st.pl.gene_plot(adata, gene_symbols=\"GAPDH\", contour=True,cell_alpha=0.5, step_size=200)"
   ],
   "outputs": [],
   "execution_count": null
  },
  {
   "cell_type": "markdown",
   "metadata": {},
   "source": [
    "### Cluster plot"
   ]
  },
  {
   "cell_type": "markdown",
   "metadata": {},
   "source": [
    "We provide different options for display clustering results. Several `show_*` options that user can control to display different parts of the figure:"
   ]
  },
  {
   "cell_type": "code",
   "metadata": {},
   "source": "st.pl.cluster_plot(adata_processed, use_label=\"louvain\")",
   "outputs": [],
   "execution_count": null
  },
  {
   "cell_type": "code",
   "metadata": {},
   "source": [
    "st.pl.cluster_plot(adata_processed, use_label=\"louvain\", show_cluster_labels=True, show_color_bar=False)"
   ],
   "outputs": [],
   "execution_count": null
  },
  {
   "cell_type": "markdown",
   "metadata": {},
   "source": [
    "### Subcluster plot"
   ]
  },
  {
   "cell_type": "markdown",
   "metadata": {},
   "source": [
    "We also provide option to plot spatial subclusters based on the spatial location within a cluster.\n",
    "\n",
    "You have two options here, display subclusters for multiple clusters using `show_subcluster` in `st.pl.cluster_plot` or use `st.pl.subcluster_plot` to display subclusters within a cluster but with different color."
   ]
  },
  {
   "metadata": {},
   "cell_type": "code",
   "source": [
    "# Generate subclusters with a distance of 50\n",
    "st.spatial.clustering.localization(adata_processed, eps=50)"
   ],
   "outputs": [],
   "execution_count": null
  },
  {
   "cell_type": "code",
   "metadata": {},
   "source": "st.pl.cluster_plot(adata_processed, use_label=\"louvain\", show_subcluster=True, show_color_bar=False, list_clusters=[\"6\",\"7\"])",
   "outputs": [],
   "execution_count": null
  },
  {
   "cell_type": "code",
   "metadata": {},
   "source": "st.pl.subcluster_plot(adata_processed, use_label=\"louvain\", cluster=\"6\")",
   "outputs": [],
   "execution_count": null
  },
  {
   "cell_type": "markdown",
   "metadata": {},
   "source": [
    "### Spatial trajectory plot"
   ]
  },
  {
   "cell_type": "markdown",
   "metadata": {},
   "source": [
    "We provided `st.pl.trajectory.pseudotime_plot` to visualize PAGA graph that maps into spatial transcriptomics array."
   ]
  },
  {
   "cell_type": "code",
   "metadata": {},
   "source": [
    "adata_processed.raw = adata\n",
    "adata_processed.uns[\"iroot\"] = st.spatial.trajectory.set_root(adata_processed, use_label = \"louvain\", cluster = \"6\", use_raw=True)\n",
    "st.spatial.trajectory.pseudotime(adata_processed, eps = 50, n_neighbors = 30, use_rep=\"X_pca\", use_label = \"louvain\")\n",
    "adata_processed.uns['available_paths']"
   ],
   "outputs": [],
   "execution_count": null
  },
  {
   "metadata": {},
   "cell_type": "code",
   "source": "st.pl.trajectory.pseudotime_plot(adata_processed, use_label=\"louvain\", pseudotime_key=\"dpt_pseudotime\", list_clusters=[\"6\",\"7\"], show_node=True)",
   "outputs": [],
   "execution_count": null
  },
  {
   "metadata": {},
   "cell_type": "code",
   "source": "st.spatial.trajectory.pseudotimespace_global(adata_processed, use_label = \"louvain\", list_clusters = [\"6\",\"7\"])",
   "outputs": [],
   "execution_count": null
  },
  {
   "cell_type": "markdown",
   "metadata": {},
   "source": [
    "You can plot spatial trajectory analysis results with the node in each subcluster by `show_trajectories` and `show_node` parameters."
   ]
  },
  {
   "cell_type": "code",
   "metadata": {},
   "source": "st.pl.cluster_plot(adata_processed,use_label=\"louvain\",show_trajectories=True, show_color_bar=True, list_clusters=[\"6\",\"7\"], show_node=True)",
   "outputs": [],
   "execution_count": null
  },
  {
   "cell_type": "markdown",
   "metadata": {},
   "source": [
    "### Ligand-receptor interaction plots"
   ]
  },
  {
   "cell_type": "markdown",
   "metadata": {},
   "source": [
    "For the stLearn ligand-receptor cell-cell interaction analysis, you can display basic results for LRs using `st.pl.lr_result_plot`. For many more visualisations, please see the stLearn Cell-cell interaction analysis tutorial."
   ]
  },
  {
   "metadata": {},
   "cell_type": "code",
   "source": [
    "lrs = st.tl.cci.load_lrs(['connectomeDB2020_lit'], species='human')\n",
    "lrs"
   ],
   "outputs": [],
   "execution_count": null
  },
  {
   "metadata": {},
   "cell_type": "code",
   "source": [
    "# Running the analysis #\n",
    "st.tl.cci.run(adata_processed, lrs,\n",
    "                  min_spots = 20, #Filter out any LR pairs with no scores for less than min_spots\n",
    "                  distance=None, # None defaults to spot+immediate neighbours; distance=0 for within-spot mode\n",
    "                  n_pairs=100, # Number of random pairs to generate; low as example, recommend ~10,000\n",
    "                  n_cpus=4, # Number of CPUs for parallel. If None, detects & use all available.\n",
    "                  )"
   ],
   "outputs": [],
   "execution_count": null
  },
  {
   "cell_type": "code",
   "metadata": {},
   "source": [
    "st.pl.lr_summary(adata_processed, highlight_lrs=['GPC3_IGF1R'])"
   ],
   "outputs": [],
   "execution_count": null
  },
  {
   "cell_type": "code",
   "metadata": {
    "scrolled": true
   },
   "source": [
    "st.pl.lr_result_plot(adata_processed, \"GPC3_IGF1R\", \"-log10(p_adjs)\")"
   ],
   "outputs": [],
   "execution_count": null
  },
  {
   "cell_type": "code",
   "metadata": {},
   "source": [
    "st.pl.lr_result_plot(adata_processed, \"GPC3_IGF1R\", \"lr_sig_scores\")"
   ],
   "outputs": [],
   "execution_count": null
  },
  {
   "cell_type": "markdown",
   "metadata": {},
   "source": [
    "### Cell-cell interaction plots\n",
    "For the stLearn cell-cell interaction analysis, you can display the celltype-celltype interactions between cell types using `st.pl.lr_chord_plot`. "
   ]
  },
  {
   "cell_type": "code",
   "metadata": {},
   "source": [
    "st.pl.cluster_plot(adata_processed, use_label='cell_type')\n",
    "st.pl.lr_chord_plot(adata_processed, 'cell_type', 'GPC3_IGF1R', figsize=(4,4))"
   ],
   "outputs": [],
   "execution_count": null
  }
 ],
 "metadata": {
  "kernelspec": {
   "display_name": "Python 3",
   "language": "python",
   "name": "python3"
  },
  "language_info": {
   "codemirror_mode": {
    "name": "ipython",
    "version": 3
   },
   "file_extension": ".py",
   "mimetype": "text/x-python",
   "name": "python",
   "nbconvert_exporter": "python",
   "pygments_lexer": "ipython3",
   "version": "3.8.12"
  }
 },
 "nbformat": 4,
 "nbformat_minor": 4
}
