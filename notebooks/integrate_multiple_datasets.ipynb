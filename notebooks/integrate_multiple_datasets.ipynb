{
 "cells": [
  {
   "metadata": {},
   "cell_type": "markdown",
   "source": [
    "# stLearn - Integrate multiple spatial transcriptomics datasets\n",
    "\n",
    "In this tutorial, we will integrate two related samples together.\n",
    "\n"
   ],
   "id": "d2fa9ab53cd72086"
  },
  {
   "cell_type": "code",
   "id": "7ae9c5b5",
   "metadata": {},
   "source": [
    "import stlearn as st\n",
    "import scanpy as sc\n",
    "import numpy as np\n",
    "import harmonypy as hm\n",
    "\n",
    "st.settings.set_figure_params(dpi=150)"
   ],
   "outputs": [],
   "execution_count": null
  },
  {
   "cell_type": "markdown",
   "id": "666bc377",
   "metadata": {},
   "source": [
    "## Read data\n",
    "\n",
    "In this tutorial, we are using the Breast cancer datasets with 2 sections of block A.\n",
    "\n",
    "Source:\n",
    " * https://www.10xgenomics.com/datasets/human-breast-cancer-block-a-section-1-1-standard-1-1-0 and\n",
    " * https://www.10xgenomics.com/datasets/human-breast-cancer-block-a-section-2-1-standard-1-1-0\n"
   ]
  },
  {
   "cell_type": "code",
   "id": "4f372fb6",
   "metadata": {},
   "source": [
    "block1 = sc.datasets.visium_sge(sample_id=\"V1_Breast_Cancer_Block_A_Section_1\")\n",
    "block1 = st.convert_scanpy(block1)"
   ],
   "outputs": [],
   "execution_count": null
  },
  {
   "metadata": {},
   "cell_type": "code",
   "source": [
    "block2 = sc.datasets.visium_sge(sample_id=\"V1_Breast_Cancer_Block_A_Section_2\")\n",
    "block2 = st.convert_scanpy(block2)"
   ],
   "id": "5fd1fa43f5dc8f3c",
   "outputs": [],
   "execution_count": null
  },
  {
   "cell_type": "markdown",
   "id": "06762e11",
   "metadata": {},
   "source": [
    "## Processing data"
   ]
  },
  {
   "cell_type": "code",
   "id": "cd386865",
   "metadata": {},
   "source": [
    "# concatenate 2 samples\n",
    "adata_concat = block1.concatenate(block2)"
   ],
   "outputs": [],
   "execution_count": null
  },
  {
   "cell_type": "code",
   "id": "f8d4459c",
   "metadata": {},
   "source": [
    "# Preprocessing\n",
    "# Filter genes\n",
    "sc.pp.filter_genes(adata_concat, min_cells=3)\n",
    "# Normalize data\n",
    "sc.pp.normalize_total(adata_concat, target_sum=1e4)\n",
    "# Log transformation\n",
    "sc.pp.log1p(adata_concat)\n",
    "# Store raw data\n",
    "adata_concat.raw = adata_concat\n",
    "# Extract top highly variable genes\n",
    "sc.pp.highly_variable_genes(adata_concat, min_mean=0.0125, max_mean=3, min_disp=0.5)\n",
    "adata_concat = adata_concat[:, adata_concat.var.highly_variable]\n",
    "# Scale data\n",
    "sc.pp.scale(adata_concat, max_value=10)"
   ],
   "outputs": [],
   "execution_count": null
  },
  {
   "cell_type": "code",
   "id": "2e09efc2",
   "metadata": {},
   "source": [
    "# Run dimensionality reduction\n",
    "sc.pp.pca(adata_concat, n_comps=30, svd_solver='arpack')"
   ],
   "outputs": [],
   "execution_count": null
  },
  {
   "cell_type": "markdown",
   "id": "30ea8e08",
   "metadata": {},
   "source": [
    "## Run integration with harmony"
   ]
  },
  {
   "cell_type": "code",
   "id": "ab4418dc",
   "metadata": {},
   "source": [
    "# Prepare metadata and PCA\n",
    "meta_data = adata_concat.obs\n",
    "data_mat = adata_concat.obsm[\"X_pca\"]"
   ],
   "outputs": [],
   "execution_count": null
  },
  {
   "cell_type": "code",
   "id": "d5cecb91",
   "metadata": {},
   "source": [
    "# Run harmony\n",
    "ho = hm.run_harmony(data_mat, meta_data, \"batch\")"
   ],
   "outputs": [],
   "execution_count": null
  },
  {
   "cell_type": "code",
   "id": "db603f82",
   "metadata": {},
   "source": [
    "# Mapping back the result to the adata object\n",
    "adata_concat.obsm[\"X_pca\"] = ho.Z_corr.T"
   ],
   "outputs": [],
   "execution_count": null
  },
  {
   "cell_type": "markdown",
   "id": "bdb146a8",
   "metadata": {},
   "source": [
    "## Perform clustering and visualize the results by UMAP"
   ]
  },
  {
   "cell_type": "code",
   "id": "202d44f1",
   "metadata": {},
   "source": [
    "# Build KNN and run UMAP\n",
    "sc.pp.neighbors(adata_concat, n_pcs=30)\n",
    "sc.tl.umap(adata_concat)"
   ],
   "outputs": [],
   "execution_count": null
  },
  {
   "cell_type": "code",
   "id": "743b8b16",
   "metadata": {},
   "source": [
    "# Run clustering with leiden\n",
    "sc.tl.leiden(adata_concat, resolution=0.4)"
   ],
   "outputs": [],
   "execution_count": null
  },
  {
   "cell_type": "code",
   "id": "6f212d43",
   "metadata": {},
   "source": [
    "# Plotting UMAP\n",
    "sc.pl.umap(adata_concat, color=[\"batch\",\"leiden\"])"
   ],
   "outputs": [],
   "execution_count": null
  },
  {
   "cell_type": "markdown",
   "id": "7450a063",
   "metadata": {},
   "source": [
    "## Map the result back to the original samples\n"
   ]
  },
  {
   "cell_type": "code",
   "id": "ec3fbf5a",
   "metadata": {},
   "source": [
    "st.settings.set_figure_params(dpi=150)\n",
    "# Map leiden clusteirng result to block A section 1\n",
    "block1.obs[\"leiden\"] = adata_concat.obs[adata_concat.obs.batch==\"0\"].leiden.values"
   ],
   "outputs": [],
   "execution_count": null
  },
  {
   "cell_type": "code",
   "id": "2a03de94",
   "metadata": {},
   "source": [
    "# Plotting the clusteirng result\n",
    "st.pl.cluster_plot(block1,use_label=\"leiden\")"
   ],
   "outputs": [],
   "execution_count": null
  },
  {
   "cell_type": "code",
   "id": "a26fe4c3",
   "metadata": {},
   "source": [
    "# Map leiden clustering result to block A section 2\n",
    "block2.obs[\"leiden\"] = adata_concat.obs[adata_concat.obs.batch==\"1\"].leiden.values"
   ],
   "outputs": [],
   "execution_count": null
  },
  {
   "cell_type": "code",
   "id": "ea34f6a9",
   "metadata": {},
   "source": [
    "# Plotting the clustering result\n",
    "st.pl.cluster_plot(block2,use_label=\"leiden\")"
   ],
   "outputs": [],
   "execution_count": null
  },
  {
   "cell_type": "markdown",
   "id": "524c2442",
   "metadata": {},
   "source": [
    "## Manually combine the images and change the coordinates\n",
    "\n",
    "This is a way to plotting 2 samples in the same adata object. "
   ]
  },
  {
   "cell_type": "code",
   "id": "b3c89e26",
   "metadata": {},
   "source": [
    "# Initialize the spatial \n",
    "adata_concat.uns[\"spatial\"] = block1.uns[\"spatial\"]"
   ],
   "outputs": [],
   "execution_count": null
  },
  {
   "cell_type": "code",
   "id": "e9266046",
   "metadata": {},
   "source": [
    "# Horizontally stack 2 images from section 1 and section 2 datasets\n",
    "combined = np.hstack([block1.uns[\"spatial\"][\"V1_Breast_Cancer_Block_A_Section_1\"][\"images\"][\"hires\"],\n",
    "                      block2.uns[\"spatial\"][\"V1_Breast_Cancer_Block_A_Section_2\"][\"images\"][\"hires\"]])"
   ],
   "outputs": [],
   "execution_count": null
  },
  {
   "cell_type": "code",
   "id": "965788ad",
   "metadata": {},
   "source": [
    "# Map the image to the concatnated adata object\n",
    "adata_concat.uns[\"spatial\"][\"V1_Breast_Cancer_Block_A_Section_1\"][\"images\"][\"hires\"] = combined"
   ],
   "outputs": [],
   "execution_count": null
  },
  {
   "cell_type": "code",
   "id": "c2e704c9",
   "metadata": {},
   "source": [
    "# Manually change the coordinate of spots to the right\n",
    "adata_concat.obs.loc[adata_concat.obs.batch == \"1\",\"imagecol\"] = adata_concat.obs.loc[adata_concat.obs.batch == \"1\",\"imagecol\"].values + 2000"
   ],
   "outputs": [],
   "execution_count": null
  },
  {
   "cell_type": "code",
   "id": "96238036",
   "metadata": {},
   "source": [
    "# Change to the .obsm[\"spatial\"]\n",
    "factor = adata_concat.uns[\"spatial\"][\"V1_Breast_Cancer_Block_A_Section_1\"][\"scalefactors\"][\"tissue_hires_scalef\"]\n",
    "adata_concat.obsm[\"spatial\"] = adata_concat.obs[[\"imagecol\",\"imagerow\"]].values / factor"
   ],
   "outputs": [],
   "execution_count": null
  },
  {
   "cell_type": "code",
   "id": "8d7f69e1",
   "metadata": {},
   "source": [
    "st.settings.set_figure_params(dpi=200)"
   ],
   "outputs": [],
   "execution_count": null
  },
  {
   "cell_type": "code",
   "id": "5171157c",
   "metadata": {},
   "source": [
    "# Plot the gene\n",
    "st.pl.gene_plot(adata_concat, gene_symbols=\"KRT5\",crop=False, size=1.4,cell_alpha=1)"
   ],
   "outputs": [],
   "execution_count": null
  },
  {
   "cell_type": "code",
   "id": "01a8c730",
   "metadata": {},
   "source": [
    "# Plot the clusters\n",
    "st.pl.cluster_plot(adata_concat, use_label=\"leiden\", crop=False, size=1.4,cell_alpha=1)"
   ],
   "outputs": [],
   "execution_count": null
  }
 ],
 "metadata": {
  "kernelspec": {
   "display_name": "Python 3",
   "language": "python",
   "name": "python3"
  },
  "language_info": {
   "codemirror_mode": {
    "name": "ipython",
    "version": 3
   },
   "file_extension": ".py",
   "mimetype": "text/x-python",
   "name": "python",
   "nbconvert_exporter": "python",
   "pygments_lexer": "ipython3",
   "version": "3.8.10"
  }
 },
 "nbformat": 4,
 "nbformat_minor": 5
}
