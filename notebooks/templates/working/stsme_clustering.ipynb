{
 "cells": [
  {
   "cell_type": "markdown",
   "metadata": {},
   "source": [
    "# stSME clustering tutorial"
   ]
  },
  {
   "cell_type": "markdown",
   "metadata": {},
   "source": [
    "**stSME** is a novel normalisation method implemented in *stLearn* software.   \n",
    "It's designed for **s**patial **t**ranscriptomics data and utilised tissue **S**patial location, **M**orphology, , and gene **E**xpression."
   ]
  },
  {
   "cell_type": "markdown",
   "metadata": {},
   "source": [
    "This tutorial demonstrates how to use *stLearn* to perform **stSME** clustering for spatial transcriptomics data"
   ]
  },
  {
   "cell_type": "markdown",
   "metadata": {},
   "source": [
    "In this tutorial we first focus on **Mouse Brain (Coronal)** Visium dataset from [10x genomics website](https://support.10xgenomics.com/spatial-gene-expression/datasets/1.0.0/V1_Adult_Mouse_Brain)."
   ]
  },
  {
   "cell_type": "markdown",
   "metadata": {},
   "source": [
    "## Mouse Brain (Coronal)"
   ]
  },
  {
   "cell_type": "markdown",
   "metadata": {},
   "source": [
    "### 1. Preparation"
   ]
  },
  {
   "cell_type": "code",
   "metadata": {},
   "source": [
    "import scanpy as sc\n",
    "import stlearn as st\n",
    "\n",
    "st.settings.set_figure_params(dpi=180)\n",
    "\n",
    "# Ignore all warnings\n",
    "import warnings\n",
    "warnings.filterwarnings(\"ignore\")"
   ],
   "outputs": [],
   "execution_count": null
  },
  {
   "metadata": {},
   "cell_type": "code",
   "source": [
    "mouse_brain_coronal = sc.datasets.visium_sge(sample_id=\"V1_Adult_Mouse_Brain\")\n",
    "mouse_brain_coronal = st.convert_scanpy(mouse_brain_coronal)"
   ],
   "outputs": [],
   "execution_count": null
  },
  {
   "cell_type": "code",
   "metadata": {},
   "source": [
    "# pre-processing for gene count table\n",
    "st.pp.filter_genes(mouse_brain_coronal, min_cells=1)\n",
    "st.pp.normalize_total(mouse_brain_coronal)\n",
    "st.pp.log1p(mouse_brain_coronal)"
   ],
   "outputs": [],
   "execution_count": null
  },
  {
   "cell_type": "code",
   "metadata": {},
   "source": [
    "# pre-processing for spot image\n",
    "st.pp.tiling(mouse_brain_coronal, out_path=\"tiling\")\n",
    "\n",
    "# this step uses deep learning model to extract high-level features from tile images\n",
    "# may need few minutes to be completed\n",
    "st.pp.extract_feature(mouse_brain_coronal)"
   ],
   "outputs": [],
   "execution_count": null
  },
  {
   "cell_type": "markdown",
   "metadata": {},
   "source": [
    "### 2. run stSME clustering"
   ]
  },
  {
   "cell_type": "code",
   "metadata": {},
   "source": [
    "# run PCA for gene expression data\n",
    "st.em.run_pca(mouse_brain_coronal, n_comps=50)"
   ],
   "outputs": [],
   "execution_count": null
  },
  {
   "cell_type": "code",
   "metadata": {},
   "source": [
    "mouse_brain_coronal_sme = mouse_brain_coronal.copy()\n",
    "# apply stSME to normalise log transformed data\n",
    "st.spatial.SME.SME_normalize(mouse_brain_coronal_sme, use_data=\"raw\")\n",
    "mouse_brain_coronal_sme.X = mouse_brain_coronal_sme.obsm['raw_SME_normalized']\n",
    "st.pp.scale(mouse_brain_coronal_sme)\n",
    "st.em.run_pca(mouse_brain_coronal_sme, n_comps=50)"
   ],
   "outputs": [],
   "execution_count": null
  },
  {
   "cell_type": "code",
   "metadata": {},
   "source": [
    "# K-means clustering on stSME normalised PCA\n",
    "st.tl.clustering.kmeans(mouse_brain_coronal_sme, n_clusters=19, use_data=\"X_pca\", key_added=\"X_pca_kmeans\")\n",
    "st.pl.cluster_plot(mouse_brain_coronal_sme, use_label=\"X_pca_kmeans\")"
   ],
   "outputs": [],
   "execution_count": null
  },
  {
   "cell_type": "code",
   "metadata": {},
   "source": [
    "# louvain clustering on stSME normalised data\n",
    "st.pp.neighbors(mouse_brain_coronal_sme, n_neighbors=17, use_rep='X_pca')\n",
    "st.tl.clustering.louvain(mouse_brain_coronal_sme, resolution=1.19)\n",
    "st.pl.cluster_plot(mouse_brain_coronal_sme, use_label=\"louvain\")"
   ],
   "outputs": [],
   "execution_count": null
  },
  {
   "cell_type": "markdown",
   "metadata": {},
   "source": [
    "we now move to Mouse Brain (Sagittal Posterior) Visium dataset from [10x genomics website](https://support.10xgenomics.com/spatial-gene-expression/datasets/1.0.0/V1_Mouse_Brain_Sagittal_Posterior)."
   ]
  },
  {
   "cell_type": "markdown",
   "metadata": {},
   "source": [
    "## Mouse Brain (Sagittal Posterior)"
   ]
  },
  {
   "cell_type": "markdown",
   "metadata": {},
   "source": [
    "### 1. Preparation"
   ]
  },
  {
   "metadata": {},
   "cell_type": "code",
   "source": [
    "mouse_brain_sagittal = sc.datasets.visium_sge(sample_id=\"V1_Mouse_Brain_Sagittal_Posterior\")\n",
    "mouse_brain_sagittal = st.convert_scanpy(mouse_brain_sagittal)"
   ],
   "outputs": [],
   "execution_count": null
  },
  {
   "cell_type": "code",
   "metadata": {},
   "source": [
    "# pre-processing for gene count table\n",
    "st.pp.filter_genes(mouse_brain_sagittal, min_cells=1)\n",
    "st.pp.normalize_total(mouse_brain_sagittal)\n",
    "st.pp.log1p(mouse_brain_sagittal)\n",
    "st.pp.scale(mouse_brain_sagittal)"
   ],
   "outputs": [],
   "execution_count": null
  },
  {
   "cell_type": "code",
   "metadata": {},
   "source": [
    "# pre-processing for spot image\n",
    "st.pp.tiling(mouse_brain_sagittal, out_path=\"tiling\")\n",
    "\n",
    "# this step uses deep learning model to extract high-level features from tile images\n",
    "# may need few minutes to be completed\n",
    "st.pp.extract_feature(mouse_brain_sagittal)"
   ],
   "outputs": [],
   "execution_count": null
  },
  {
   "cell_type": "markdown",
   "metadata": {},
   "source": [
    "### 2. run stSME clustering"
   ]
  },
  {
   "cell_type": "code",
   "metadata": {},
   "source": [
    "# run PCA for gene expression data\n",
    "st.em.run_pca(mouse_brain_sagittal, n_comps=50)"
   ],
   "outputs": [],
   "execution_count": null
  },
  {
   "cell_type": "code",
   "metadata": {},
   "source": [
    "mouse_brain_sagittal_sme = mouse_brain_sagittal.copy()\n",
    "# apply stSME to normalise log transformed data\n",
    "# with weights from morphological Similarly and physcial distance\n",
    "st.spatial.SME.SME_normalize(mouse_brain_sagittal_sme, use_data=\"raw\",\n",
    "                             weights=\"weights_matrix_pd_md\")\n",
    "mouse_brain_sagittal_sme.X = mouse_brain_sagittal_sme.obsm['raw_SME_normalized']\n",
    "st.pp.scale(mouse_brain_sagittal_sme)\n",
    "st.em.run_pca(mouse_brain_sagittal_sme, n_comps=50)"
   ],
   "outputs": [],
   "execution_count": null
  },
  {
   "cell_type": "code",
   "metadata": {},
   "source": [
    "# K-means clustering on stSME normalised PCA\n",
    "st.tl.clustering.kmeans(mouse_brain_sagittal_sme, n_clusters=17, use_data=\"X_pca\", key_added=\"X_pca_kmeans\")\n",
    "st.pl.cluster_plot(mouse_brain_sagittal_sme, use_label=\"X_pca_kmeans\")"
   ],
   "outputs": [],
   "execution_count": null
  },
  {
   "cell_type": "code",
   "metadata": {},
   "source": [
    "# louvain clustering on stSME normalised data\n",
    "st.pp.neighbors(mouse_brain_sagittal_sme, n_neighbors=20, use_rep='X_pca')\n",
    "st.tl.clustering.louvain(mouse_brain_sagittal_sme)\n",
    "st.pl.cluster_plot(mouse_brain_sagittal_sme, use_label=\"louvain\")"
   ],
   "outputs": [],
   "execution_count": null
  },
  {
   "cell_type": "markdown",
   "metadata": {},
   "source": [
    "#### Tutorial by Xiao Tan"
   ]
  }
 ],
 "metadata": {
  "kernelspec": {
   "display_name": "Python 3 (ipykernel)",
   "language": "python",
   "name": "python3"
  },
  "language_info": {
   "codemirror_mode": {
    "name": "ipython",
    "version": 3
   },
   "file_extension": ".py",
   "mimetype": "text/x-python",
   "name": "python",
   "nbconvert_exporter": "python",
   "pygments_lexer": "ipython3",
   "version": "3.8.13"
  }
 },
 "nbformat": 4,
 "nbformat_minor": 4
}
