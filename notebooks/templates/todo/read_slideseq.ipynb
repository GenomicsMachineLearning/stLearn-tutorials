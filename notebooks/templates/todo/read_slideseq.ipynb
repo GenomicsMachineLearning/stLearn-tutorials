{
 "cells": [
  {
   "cell_type": "markdown",
   "metadata": {},
   "source": [
    "# Working with slide-seq data"
   ]
  },
  {
   "cell_type": "code",
   "metadata": {},
   "source": [
    "import stlearn as st\n",
    "import warnings\n",
    "warnings.filterwarnings('ignore')"
   ],
   "outputs": [],
   "execution_count": null
  },
  {
   "cell_type": "markdown",
   "metadata": {},
   "source": [
    "The data is downloaded from https://www.spatialomics.org/SpatialDB/download.php\n",
    "\n",
    "| Technique | PMID | Title | Expression | SV genes|\n",
    "| ----------- | ----------- | ----------- | ----------- | ----------- |\n",
    "|Slide-seq|30923225|Slide-seq: a scalable technology for measuring genome-wide expression at high spatial resolution|slideseq_30923225.tar.gz|slideseq_30923225_SVG.tar.gz|\n",
    "\n",
    "Read Slide-seq data"
   ]
  },
  {
   "cell_type": "code",
   "metadata": {},
   "source": [
    "data = st.ReadSlideSeq(count_matrix_file=\"SlideSeq/slideseq_30923225/Puck_180413_7.count\",\n",
    "               spatial_file=\"SlideSeq/slideseq_30923225/Puck_180413_7.idx\")"
   ],
   "outputs": [],
   "execution_count": null
  },
  {
   "cell_type": "code",
   "metadata": {},
   "source": [
    "data"
   ],
   "outputs": [],
   "execution_count": null
  },
  {
   "cell_type": "markdown",
   "metadata": {},
   "source": [
    "Plot for QC"
   ]
  },
  {
   "cell_type": "code",
   "metadata": {},
   "source": [
    "st.pl.QC_plot(data)"
   ],
   "outputs": [],
   "execution_count": null
  },
  {
   "cell_type": "markdown",
   "metadata": {},
   "source": [
    "Preprocessing data"
   ]
  },
  {
   "cell_type": "code",
   "metadata": {},
   "source": [
    "st.pp.filter_genes(data,min_cells=3)\n",
    "st.pp.normalize_total(data)\n",
    "st.pp.log1p(data)\n",
    "st.pp.scale(data)"
   ],
   "outputs": [],
   "execution_count": null
  },
  {
   "cell_type": "markdown",
   "metadata": {},
   "source": [
    "Run PCA"
   ]
  },
  {
   "cell_type": "code",
   "metadata": {},
   "source": [
    "st.em.run_pca(data,n_comps=50,random_state=0)"
   ],
   "outputs": [],
   "execution_count": null
  },
  {
   "cell_type": "markdown",
   "metadata": {},
   "source": [
    "Run and plot louvain clustering"
   ]
  },
  {
   "cell_type": "code",
   "metadata": {},
   "source": [
    "st.pp.neighbors(data,n_neighbors=25,use_rep='X_pca',random_state=0)"
   ],
   "outputs": [],
   "execution_count": null
  },
  {
   "cell_type": "code",
   "metadata": {},
   "source": [
    "st.tl.clustering.louvain(data,random_state=0)"
   ],
   "outputs": [],
   "execution_count": null
  },
  {
   "cell_type": "code",
   "metadata": {},
   "source": [
    "st.pl.cluster_plot(data,use_label=\"louvain\",tissue_alpha=1,spot_size=1,show_legend=True)"
   ],
   "outputs": [],
   "execution_count": null
  }
 ],
 "metadata": {
  "kernelspec": {
   "display_name": "Python 3",
   "language": "python",
   "name": "python3"
  },
  "language_info": {
   "codemirror_mode": {
    "name": "ipython",
    "version": 3
   },
   "file_extension": ".py",
   "mimetype": "text/x-python",
   "name": "python",
   "nbconvert_exporter": "python",
   "pygments_lexer": "ipython3",
   "version": "3.8.2"
  }
 },
 "nbformat": 4,
 "nbformat_minor": 4
}
