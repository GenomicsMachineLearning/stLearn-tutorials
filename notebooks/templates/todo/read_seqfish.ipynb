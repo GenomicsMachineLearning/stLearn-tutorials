{
 "cells": [
  {
   "cell_type": "markdown",
   "metadata": {},
   "source": [
    "# Working with SeqFish data"
   ]
  },
  {
   "cell_type": "code",
   "metadata": {},
   "source": [
    "import stlearn as st"
   ],
   "outputs": [],
   "execution_count": null
  },
  {
   "cell_type": "markdown",
   "metadata": {},
   "source": [
    "The data is downloaded from https://www.spatialomics.org/SpatialDB/download.php\n",
    "\n",
    "| Technique | PMID | Title | Expression | SV genes|\n",
    "| ----------- | ----------- | ----------- | ----------- | ----------- |\n",
    "|seqFISH|30911168|Transcriptome-scale super-resolved imaging in tissues by RNA seqFISH+\tseqfish_30911168.tar.gz|seqfish_30911168_SVG.tar.gz\n",
    "\n",
    "Read SeqFish data and we select field 5."
   ]
  },
  {
   "cell_type": "code",
   "metadata": {},
   "source": [
    "data = st.ReadSeqFish(count_matrix_file=\"../Downloads/seqfish_30911168/cortex_svz_counts.matrix\",\n",
    "                     spatial_file=\"../Downloads/seqfish_30911168/cortex_svz_cellcentroids.csv\",\n",
    "                     field=5)"
   ],
   "outputs": [],
   "execution_count": null
  },
  {
   "cell_type": "markdown",
   "metadata": {},
   "source": [
    "Quality checking for the data"
   ]
  },
  {
   "cell_type": "code",
   "metadata": {},
   "source": [
    "st.pl.QC_plot(data)"
   ],
   "outputs": [],
   "execution_count": null
  },
  {
   "cell_type": "markdown",
   "metadata": {},
   "source": [
    "Plot gene Nr4a1"
   ]
  },
  {
   "cell_type": "code",
   "metadata": {},
   "source": [
    "st.pl.gene_plot(data,genes=\"Nr4a1\")"
   ],
   "outputs": [],
   "execution_count": null
  },
  {
   "cell_type": "markdown",
   "metadata": {},
   "source": [
    "Running Preprocessing for MERFISH data"
   ]
  },
  {
   "cell_type": "code",
   "metadata": {},
   "source": [
    "st.pp.filter_genes(data,min_cells=3)\n",
    "st.pp.normalize_total(data)\n",
    "st.pp.log1p(data)\n",
    "st.pp.scale(data)"
   ],
   "outputs": [],
   "execution_count": null
  },
  {
   "cell_type": "markdown",
   "metadata": {},
   "source": [
    "Running PCA to reduce the dimensions to 50"
   ]
  },
  {
   "cell_type": "code",
   "metadata": {},
   "source": [
    "st.em.run_pca(data,n_comps=50,random_state=0)"
   ],
   "outputs": [],
   "execution_count": null
  },
  {
   "cell_type": "markdown",
   "metadata": {},
   "source": [
    "Perform Louvain clustering"
   ]
  },
  {
   "cell_type": "code",
   "metadata": {},
   "source": [
    "st.pp.neighbors(data,n_neighbors=25)"
   ],
   "outputs": [],
   "execution_count": null
  },
  {
   "cell_type": "code",
   "metadata": {},
   "source": [
    "st.tl.clustering.louvain(data)"
   ],
   "outputs": [],
   "execution_count": null
  },
  {
   "cell_type": "code",
   "metadata": {},
   "source": [
    "st.pl.cluster_plot(data,use_label=\"louvain\",spot_size=10)"
   ],
   "outputs": [],
   "execution_count": null
  }
 ],
 "metadata": {
  "kernelspec": {
   "display_name": "Python 3",
   "language": "python",
   "name": "python3"
  },
  "language_info": {
   "codemirror_mode": {
    "name": "ipython",
    "version": 3
   },
   "file_extension": ".py",
   "mimetype": "text/x-python",
   "name": "python",
   "nbconvert_exporter": "python",
   "pygments_lexer": "ipython3",
   "version": "3.8.2"
  }
 },
 "nbformat": 4,
 "nbformat_minor": 4
}
