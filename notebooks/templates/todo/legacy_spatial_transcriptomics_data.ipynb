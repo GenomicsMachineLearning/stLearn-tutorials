{
 "cells": [
  {
   "cell_type": "markdown",
   "metadata": {},
   "source": [
    "# Working with Old Spatial Transcriptomics data"
   ]
  },
  {
   "cell_type": "markdown",
   "metadata": {},
   "source": [
    "## Preparation files"
   ]
  },
  {
   "cell_type": "markdown",
   "metadata": {},
   "source": [
    "Use need to prepare 3 files: `count_matrix_file`, `spatial_file` and `image_file`\n",
    "\n",
    "The file should follow this format:"
   ]
  },
  {
   "cell_type": "code",
   "metadata": {},
   "source": [
    "import pandas as pd"
   ],
   "outputs": [],
   "execution_count": null
  },
  {
   "cell_type": "markdown",
   "metadata": {},
   "source": [
    "Format for the `count_matrix_file`"
   ]
  },
  {
   "cell_type": "code",
   "metadata": {},
   "source": [
    "pd.read_table(\"../../../UQ/Developmental_heart/ST_Samples_4.5-5PCW/ST_Sample_4.5-5PCW_1/ST_Sample_4.5-5.tsv\",index_col=0).head()"
   ],
   "outputs": [],
   "execution_count": null
  },
  {
   "cell_type": "markdown",
   "metadata": {},
   "source": [
    "Format for the `spatial_file` (column selected is optional). It should have the x and y column match the column in `count_matrix_file`. The `pixel_x` and `pixel_y` columns should be match with the `image_file`."
   ]
  },
  {
   "cell_type": "code",
   "metadata": {},
   "source": [
    "pd.read_table(\"../../../UQ/Developmental_heart/ST_Samples_4.5-5PCW/ST_Sample_4.5-5PCW_1/spot_data-all-ST_Sample_4.5-5PCW_1.tsv\")"
   ],
   "outputs": [],
   "execution_count": null
  },
  {
   "cell_type": "markdown",
   "metadata": {},
   "source": [
    "## Read the old ST-seq dataset"
   ]
  },
  {
   "cell_type": "code",
   "metadata": {},
   "source": [
    "import stlearn as st"
   ],
   "outputs": [],
   "execution_count": null
  },
  {
   "cell_type": "code",
   "metadata": {},
   "source": [
    "data = st.ReadOldST(count_matrix_file=\"[PATH to count_matrix_file file]\",\n",
    "                    spatial_file=\"[PATH to spatial_file file]\",\n",
    "                    image_file=\"[PATH to image_file file]\")"
   ],
   "outputs": [],
   "execution_count": null
  },
  {
   "cell_type": "code",
   "metadata": {},
   "source": [
    "data"
   ],
   "outputs": [],
   "execution_count": null
  },
  {
   "cell_type": "code",
   "metadata": {},
   "source": [
    "st.pl.QC_plot(data,dpi=150)"
   ],
   "outputs": [],
   "execution_count": null
  },
  {
   "cell_type": "markdown",
   "metadata": {},
   "source": [
    "Run preprocessing for count data"
   ]
  },
  {
   "cell_type": "code",
   "metadata": {},
   "source": [
    "st.pp.filter_genes(data,min_cells=3)\n",
    "st.pp.normalize_total(data)\n",
    "st.pp.log1p(data)\n",
    "st.pp.scale(data)"
   ],
   "outputs": [],
   "execution_count": null
  },
  {
   "cell_type": "markdown",
   "metadata": {},
   "source": [
    "Run PCA"
   ]
  },
  {
   "cell_type": "code",
   "metadata": {},
   "source": [
    "st.em.run_pca(data,n_comps=50,random_state=0)"
   ],
   "outputs": [],
   "execution_count": null
  },
  {
   "cell_type": "markdown",
   "metadata": {},
   "source": [
    "Create k-nearest-neigbor graph"
   ]
  },
  {
   "cell_type": "code",
   "metadata": {},
   "source": [
    "st.pp.neighbors(data,n_neighbors=30,use_rep='X_pca',random_state=0)"
   ],
   "outputs": [],
   "execution_count": null
  },
  {
   "cell_type": "markdown",
   "metadata": {},
   "source": [
    "Run and plot louvain clustering"
   ]
  },
  {
   "cell_type": "code",
   "metadata": {},
   "source": [
    "st.tl.clustering.louvain(data,random_state=0)"
   ],
   "outputs": [],
   "execution_count": null
  },
  {
   "cell_type": "code",
   "metadata": {},
   "source": [
    "st.pl.cluster_plot(data,use_label=\"louvain\",tissue_alpha=1,spot_size=15,show_legend=True)"
   ],
   "outputs": [],
   "execution_count": null
  },
  {
   "cell_type": "markdown",
   "metadata": {},
   "source": [
    "Run and plot k-means clustering"
   ]
  },
  {
   "cell_type": "code",
   "metadata": {},
   "source": [
    "st.tl.clustering.kmeans(data,n_clusters=5)"
   ],
   "outputs": [],
   "execution_count": null
  },
  {
   "cell_type": "code",
   "metadata": {},
   "source": [
    "st.pl.cluster_plot(data,use_label=\"kmeans\",tissue_alpha=1,spot_size=15,show_legend=True)"
   ],
   "outputs": [],
   "execution_count": null
  }
 ],
 "metadata": {
  "kernelspec": {
   "display_name": "Python 3",
   "language": "python",
   "name": "python3"
  },
  "language_info": {
   "codemirror_mode": {
    "name": "ipython",
    "version": 3
   },
   "file_extension": ".py",
   "mimetype": "text/x-python",
   "name": "python",
   "nbconvert_exporter": "python",
   "pygments_lexer": "ipython3",
   "version": "3.8.2"
  }
 },
 "nbformat": 4,
 "nbformat_minor": 4
}
