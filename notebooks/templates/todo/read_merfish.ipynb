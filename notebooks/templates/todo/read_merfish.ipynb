{
 "cells": [
  {
   "cell_type": "markdown",
   "metadata": {},
   "source": [
    "# Working with MERFISH data"
   ]
  },
  {
   "cell_type": "code",
   "metadata": {},
   "source": [
    "import stlearn as st\n",
    "import scanpy as sc\n",
    "# Ingore all warnings\n",
    "import warnings\n",
    "warnings.filterwarnings(\"ignore\")\n",
    "\n",
    "# Setting figure parameters\n",
    "st.settings.set_figure_params(dpi=120)"
   ],
   "outputs": [],
   "execution_count": null
  },
  {
   "cell_type": "markdown",
   "metadata": {},
   "source": [
    "Read MERFISH data follow the instruction from scanpy"
   ]
  },
  {
   "cell_type": "code",
   "metadata": {},
   "source": [
    "import urllib.request\n",
    "\n",
    "url_coord = \"https://www.pnas.org/highwire/filestream/887973/field_highwire_adjunct_files/15/pnas.1912459116.sd15.xlsx\"\n",
    "filename_coord = \"pnas.1912459116.sd15.xlsx\"\n",
    "urllib.request.urlretrieve(url_coord, filename_coord)\n",
    "\n",
    "url_counts = \"https://www.pnas.org/highwire/filestream/887973/field_highwire_adjunct_files/12/pnas.1912459116.sd12.csv\"\n",
    "filename_counts = \"pnas.1912459116.sd12.csv\"\n",
    "urllib.request.urlretrieve(url_counts, filename_counts)"
   ],
   "outputs": [],
   "execution_count": null
  },
  {
   "cell_type": "code",
   "metadata": {},
   "source": [
    "data = st.ReadMERFISH(count_matrix_file=\"pnas.1912459116.sd12.csv\",\n",
    "              spatial_file=\"pnas.1912459116.sd15.xlsx\")"
   ],
   "outputs": [],
   "execution_count": null
  },
  {
   "cell_type": "markdown",
   "metadata": {},
   "source": [
    "Quality checking for the data"
   ]
  },
  {
   "cell_type": "code",
   "metadata": {},
   "source": [
    "st.pl.QC_plot(data)"
   ],
   "outputs": [],
   "execution_count": null
  },
  {
   "cell_type": "markdown",
   "metadata": {},
   "source": [
    "Running Preprocessing for MERFISH data"
   ]
  },
  {
   "cell_type": "code",
   "metadata": {},
   "source": [
    "st.pp.filter_genes(data,min_cells=3)\n",
    "st.pp.normalize_total(data)\n",
    "st.pp.log1p(data)\n",
    "st.pp.scale(data)"
   ],
   "outputs": [],
   "execution_count": null
  },
  {
   "cell_type": "markdown",
   "metadata": {},
   "source": [
    "Running PCA to reduce the dimensions to 50"
   ]
  },
  {
   "cell_type": "code",
   "metadata": {},
   "source": [
    "st.em.run_pca(data,n_comps=50,random_state=0)"
   ],
   "outputs": [],
   "execution_count": null
  },
  {
   "cell_type": "markdown",
   "metadata": {},
   "source": [
    "Perform Louvain clustering"
   ]
  },
  {
   "cell_type": "code",
   "metadata": {},
   "source": [
    "st.pp.neighbors(data,n_neighbors=25)"
   ],
   "outputs": [],
   "execution_count": null
  },
  {
   "cell_type": "code",
   "metadata": {},
   "source": [
    "st.tl.clustering.louvain(data)"
   ],
   "outputs": [],
   "execution_count": null
  },
  {
   "cell_type": "code",
   "metadata": {},
   "source": [
    "st.pl.cluster_plot(data,use_label=\"louvain\",size=10)"
   ],
   "outputs": [],
   "execution_count": null
  }
 ],
 "metadata": {
  "kernelspec": {
   "display_name": "Python 3",
   "language": "python",
   "name": "python3"
  },
  "language_info": {
   "codemirror_mode": {
    "name": "ipython",
    "version": 3
   },
   "file_extension": ".py",
   "mimetype": "text/x-python",
   "name": "python",
   "nbconvert_exporter": "python",
   "pygments_lexer": "ipython3",
   "version": "3.8.2"
  }
 },
 "nbformat": 4,
 "nbformat_minor": 4
}
