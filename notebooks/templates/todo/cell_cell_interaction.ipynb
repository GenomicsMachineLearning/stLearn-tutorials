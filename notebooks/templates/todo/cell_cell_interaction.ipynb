{
 "cells": [
  {
   "cell_type": "markdown",
   "id": "5e0cfcc6",
   "metadata": {},
   "source": [
    "# stLearn Cell-Cell Interaction Analysis"
   ]
  },
  {
   "cell_type": "markdown",
   "id": "c0c97de4",
   "metadata": {},
   "source": [
    "The overall steps in the stLearn cell-cell interaction (CCI) analysis pipeline are:\n",
    "\n",
    "    1. Load known ligand-receptor gene pairs.\n",
    "    2. Identify spots where significant interactions between these pairs occur.\n",
    "    3. For each LR pair and each celltype-celltype combination, \n",
    "        count the instances where neighbours of a signficant spot \n",
    "        for that LR pair link two given cell types.\n",
    "    4. Identify signficant interactions with p<.05 from cell type information permutation.\n",
    "    5. Visualise the CCI results.\n",
    "\n",
    "## Ligand-Receptor Analysis\n",
    "The first step in the stLearn CCI pipeline is the ligand-receptor (LR) analysis. \n",
    "\n",
    "This analysis calls significant spots of ligand-receptor interactions from a database of candidate ligand-receptors.\n",
    "\n",
    "Run-time will heavily depend on the dataset & compute resources available; note that multi-threading capability is implemented."
   ]
  },
  {
   "cell_type": "markdown",
   "id": "9165df50",
   "metadata": {},
   "source": [
    "### Environment setup"
   ]
  },
  {
   "cell_type": "code",
   "id": "36bf5636",
   "metadata": {},
   "source": [
    "import stlearn as st\n",
    "import numpy as np\n",
    "import pandas as pd\n",
    "import matplotlib.pyplot as plt"
   ],
   "outputs": [],
   "execution_count": null
  },
  {
   "metadata": {},
   "cell_type": "code",
   "outputs": [],
   "execution_count": null,
   "source": [
    "# Read raw data\n",
    "adata = sc.datasets.visium_sge()\n",
    "adata = st.convert_scanpy(adata)\n",
    "\n",
    "# Read processed data\n",
    "adata_processed = st.datasets.example_bcba()"
   ],
   "id": "da7eb141e06dd589"
  },
  {
   "cell_type": "markdown",
   "id": "73748d66",
   "metadata": {},
   "source": [
    "### Data Loading & Preprocessing\n",
    "Note we don't log1p the data for the LR analysis."
   ]
  },
  {
   "cell_type": "code",
   "id": "911da8c1",
   "metadata": {},
   "source": [
    "# Loading raw data #\n",
    "data = st.Read10X(data_dir)\n",
    "data.var_names_make_unique()\n",
    "st.add.image(adata=data,\n",
    "             imgpath=data_dir+\"spatial/tissue_hires_nobg.png\",\n",
    "             library_id=\"V1_Breast_Cancer_Block_A_Section_1\", visium=True)\n",
    "\n",
    "# Basic normalisation #\n",
    "st.pp.filter_genes(data, min_cells=3)\n",
    "st.pp.normalize_total(data) # NOTE: no log1p"
   ],
   "outputs": [],
   "execution_count": null
  },
  {
   "cell_type": "code",
   "id": "a94fd973",
   "metadata": {},
   "source": [
    "# Adding the label transfer results,  #\n",
    "spot_mixtures = pd.read_csv(data_dir+'../../Brad/label_transfer_bc.csv', index_col=0, sep='\\t')\n",
    "labels = spot_mixtures.loc[:,'predicted.id'].values.astype(str)\n",
    "spot_mixtures = spot_mixtures.drop(['predicted.id','prediction.score.max'],\n",
    "                                   axis=1)\n",
    "spot_mixtures.columns = [col.replace('prediction.score.', '')\n",
    "                         for col in spot_mixtures.columns]\n",
    "\n",
    "# Note the format! #\n",
    "print(labels)\n",
    "print(spot_mixtures)\n",
    "print('Spot mixture order correct?: ', \n",
    "      np.all(spot_mixtures.index.values==data.obs_names.values)) # Check is in correct order\n",
    "\n",
    "# NOTE: using the same key in data.obs & data.uns\n",
    "data.obs['cell_type'] = labels # Adding the dominant cell type labels per spot\n",
    "data.obs['cell_type'] = data.obs['cell_type'].astype('category')\n",
    "data.uns['cell_type'] = spot_mixtures # Adding the cell type scores\n",
    "\n",
    "st.pl.cluster_plot(data, use_label='cell_type')"
   ],
   "outputs": [],
   "execution_count": null
  },
  {
   "cell_type": "markdown",
   "id": "cab67379",
   "metadata": {},
   "source": [
    "For the above cell type information, note that these results were generated using Seurat. \n",
    "\n",
    "It's not necessary to have the cell type scores per spot; you can run with just discrete spot labels. \n",
    "\n",
    "However, if running with cell type scores, do need to add the dominant cell type to the adata.obs slot with the same key as the cell type scores added to the adata.uns slot; as exemplified above."
   ]
  },
  {
   "cell_type": "markdown",
   "id": "ac209142",
   "metadata": {},
   "source": [
    "### Running the Ligand-Receptor Analysis"
   ]
  },
  {
   "cell_type": "code",
   "id": "2252a587",
   "metadata": {},
   "source": [
    "# Loading the LR databases available within stlearn (from NATMI)\n",
    "lrs = st.tl.cci.load_lrs(['connectomeDB2020_lit'], species='human')\n",
    "print(len(lrs))\n",
    "\n",
    "# Running the analysis #\n",
    "st.tl.cci.run(data, lrs,\n",
    "                  min_spots = 20, #Filter out any LR pairs with no scores for less than min_spots\n",
    "                  distance=None, # None defaults to spot+immediate neighbours; distance=0 for within-spot mode\n",
    "                  n_pairs=100, # Number of random pairs to generate; low as example, recommend ~10,000\n",
    "                  n_cpus=4, # Number of CPUs for parallel. If None, detects & use all available.\n",
    "                  )\n",
    "\n",
    "lr_info = data.uns['lr_summary'] # A dataframe detailing the LR pairs ranked by number of significant spots.\n",
    "print('\\n', lr_info)"
   ],
   "outputs": [],
   "execution_count": null
  },
  {
   "cell_type": "markdown",
   "id": "18647362",
   "metadata": {},
   "source": [
    "### P-value adjustment\n",
    "Below can adjust the p-value using different approaches; the p-value has already been corrected by running  st.tl.cci.run. This is what was used for the paper and is the default of the below function. The difference between correct_axis is adjusting by no. of LRs tested per spot (LR), no. of spots tested per LR (spot), or no adjustment (None). "
   ]
  },
  {
   "cell_type": "code",
   "id": "da435253",
   "metadata": {},
   "source": [
    "st.tl.cci.adj_pvals(data, correct_axis='spot',\n",
    "                   pval_adj_cutoff=0.05, adj_method='fdr_bh') "
   ],
   "outputs": [],
   "execution_count": null
  },
  {
   "cell_type": "markdown",
   "id": "9e87ad73",
   "metadata": {},
   "source": [
    "### Visualise the overall ranking of LRs by significant spots"
   ]
  },
  {
   "cell_type": "code",
   "id": "057e76fb",
   "metadata": {},
   "source": [
    "# Showing the rankings of the LR from a global and local perspective.\n",
    "# Ranking based on number of significant hotspots.\n",
    "st.pl.lr_summary(data, n_top=500)\n",
    "st.pl.lr_summary(data, n_top=50, figsize=(10,3))"
   ],
   "outputs": [],
   "execution_count": null
  },
  {
   "cell_type": "markdown",
   "id": "83c706cc",
   "metadata": {},
   "source": [
    "## Diagnostic plots\n",
    "\n",
    "A key aspect of the LR analysis is to control for LR expression level and frequency when calling significant hotspots. \n",
    "\n",
    "Hence, **our diagnostic plots should show next to no correlation between the hotspots of the LR pairs and the expression level and frequency of expression.**\n",
    "\n",
    "The following diagnostics allow us to check and make sure this is the case; if not, could indicate a larger number of permutations is required. "
   ]
  },
  {
   "cell_type": "code",
   "id": "7f283eba",
   "metadata": {},
   "source": [
    "st.pl.lr_diagnostics(data, figsize=(10,2.5))"
   ],
   "outputs": [],
   "execution_count": null
  },
  {
   "cell_type": "markdown",
   "id": "d913e077",
   "metadata": {},
   "source": [
    "**Left plot**: Relationship between LR expression level (non-zero spots average median expression of genes in the LR pair) and the ranking of the LR.\n",
    "\n",
    "**Right plot**: Relationship between LR expression frequency (average proportion of zero spots for each gene in the LR pair) and the ranking of the LR.\n",
    "\n",
    "In this case, there is a weak correlation between the LR expression frequency and number of significant spots, indicating the n_pairs parameter should be set higher to create more accurate background distributions (10,000 pairs was used in the case of the paper version of the above)."
   ]
  },
  {
   "cell_type": "code",
   "id": "bef227cf",
   "metadata": {},
   "source": [
    "st.pl.lr_n_spots(data, n_top=50, figsize=(11, 3),\n",
    "                    max_text=100)\n",
    "st.pl.lr_n_spots(data, n_top=500, figsize=(11, 3),\n",
    "                    max_text=100)"
   ],
   "outputs": [],
   "execution_count": null
  },
  {
   "cell_type": "markdown",
   "id": "30c70f8e",
   "metadata": {},
   "source": [
    "The above boxplots show the number of spots with ligand-receptor scores for each LR on the y-axis, with the LR ranking on the x-axis. The bar area is stratified by spots which were significant (green) and non-significant (blue). \n",
    "\n",
    "While the trend isn't as quantitative with this plot compared with the scatter plot, there does appear to be some correlation with more highly frequent LR pairs and LR ranking; again indicating the n_pairs parameter above should be set higher. \n",
    "\n",
    "### Biologic Plots (Optional)\n",
    "Having examined whether we still see a correlation with the technical factors via diagnostic plots, \n",
    "**let's now examine whether we see biological enrichment of the genes in the top LR pairs** as a prognostic we are performing some biological inference.\n",
    "\n",
    "For this to work, it requires R installed with clusterProfiler, org.Mm.eg.db, and org.Hs.eg.db.\n",
    "\n",
    "To install R, we recommend using [conda](https://anaconda.org/conda-forge/r-base).\n",
    "For the R dependencies, please see the following links for installation: [clusterProfiler](https://www.bioconductor.org/packages//2.10/bioc/html/clusterProfiler.html), [org.Hs.eg.db](https://bioconductor.org/packages/release/data/annotation/html/org.Hs.eg.db.html), [org.Mm.eg.db](https://bioconductor.org/packages/release/data/annotation/html/org.Mm.eg.db.html).\n",
    "\n",
    "To get the path to your R installation, simply type the following into your terminal: **which R**"
   ]
  },
  {
   "cell_type": "code",
   "id": "393198c1",
   "metadata": {},
   "source": [
    "## Running the GO enrichment analysis ##\n",
    "r_path = \"/Library/Frameworks/R.framework/Resources\"\n",
    "st.tl.cci.run_lr_go(data, r_path)"
   ],
   "outputs": [],
   "execution_count": null
  },
  {
   "cell_type": "code",
   "id": "6a32c96b",
   "metadata": {},
   "source": [
    "st.pl.lr_go(data, lr_text_fp={'weight': 'bold', 'size': 10}, rot=15,\n",
    "               figsize=(12,3.65), n_top=15, show=False)"
   ],
   "outputs": [],
   "execution_count": null
  },
  {
   "cell_type": "markdown",
   "id": "06a36a36",
   "metadata": {},
   "source": [
    "Overall, we see some strong biological enrichment, indicating some potential pathways mediated by the top LR pairs."
   ]
  },
  {
   "cell_type": "markdown",
   "id": "2cbee5f6",
   "metadata": {},
   "source": [
    "## LR Statistics Visualisations"
   ]
  },
  {
   "cell_type": "markdown",
   "id": "7a66c691",
   "metadata": {},
   "source": [
    "The lr_result_plot displays LR analysis spot statistics for particular LR pairs in the spatial context.\n",
    "\n",
    "Different values to plot are stored in .obsm, & include: **lr_scores, p_vals, p_adjs, -log10(p_adjs), lr_sig_scores**"
   ]
  },
  {
   "cell_type": "code",
   "id": "0865d00c",
   "metadata": {},
   "source": [
    "best_lr = data.uns['lr_summary'].index.values[0] # Just choosing one of the top from lr_summary"
   ],
   "outputs": [],
   "execution_count": null
  },
  {
   "cell_type": "code",
   "id": "2296d385",
   "metadata": {},
   "source": [
    "stats = ['lr_scores', 'p_vals', 'p_adjs', '-log10(p_adjs)']\n",
    "fig, axes = plt.subplots(ncols=len(stats), figsize=(16,6))\n",
    "for i, stat in enumerate(stats):\n",
    "    st.pl.lr_result_plot(data, use_result=stat, use_lr=best_lr, show_color_bar=False, ax=axes[i])\n",
    "    axes[i].set_title(f'{best_lr} {stat}')"
   ],
   "outputs": [],
   "execution_count": null
  },
  {
   "cell_type": "markdown",
   "id": "977b2245",
   "metadata": {},
   "source": [
    "### This shows the scores -log10(p_adjs) for all spots, then the scores subseted to significant spots"
   ]
  },
  {
   "cell_type": "code",
   "id": "78df8857",
   "metadata": {},
   "source": [
    "fig, axes = plt.subplots(ncols=2, figsize=(8,6))\n",
    "st.pl.lr_result_plot(data, use_result='-log10(p_adjs)', use_lr=best_lr, show_color_bar=False, ax=axes[0])\n",
    "st.pl.lr_result_plot(data, use_result='lr_sig_scores', use_lr=best_lr, show_color_bar=False, ax=axes[1])\n",
    "axes[0].set_title(f'{best_lr} -log10(p_adjs)')\n",
    "axes[1].set_title(f'{best_lr} lr_sig_scores')"
   ],
   "outputs": [],
   "execution_count": null
  },
  {
   "cell_type": "markdown",
   "id": "f565fc89",
   "metadata": {},
   "source": [
    "## LR Interpretation Visualisations"
   ]
  },
  {
   "cell_type": "markdown",
   "id": "cc3f8885",
   "metadata": {},
   "source": [
    "These visualisations are meant to help interpret the directionality of the cross-talk."
   ]
  },
  {
   "cell_type": "markdown",
   "id": "bce6eb21",
   "metadata": {},
   "source": [
    "### Binary LR coexpression plot for all spots"
   ]
  },
  {
   "cell_type": "code",
   "id": "81d7ee2d",
   "metadata": {},
   "source": [
    "st.pl.lr_plot(data, best_lr, inner_size_prop=0.1, outer_mode='binary', pt_scale=5,\n",
    "              use_label=None, show_image=True,\n",
    "              sig_spots=False)"
   ],
   "outputs": [],
   "execution_count": null
  },
  {
   "cell_type": "markdown",
   "id": "69de73d6",
   "metadata": {},
   "source": [
    "### Binary LR coexpression plot for significant spots"
   ]
  },
  {
   "cell_type": "code",
   "id": "13542c00",
   "metadata": {},
   "source": [
    "st.pl.lr_plot(data, best_lr, outer_size_prop=1, outer_mode='binary', pt_scale=20,\n",
    "              use_label=None, show_image=True,\n",
    "              sig_spots=True)"
   ],
   "outputs": [],
   "execution_count": null
  },
  {
   "cell_type": "markdown",
   "id": "8d7952a7",
   "metadata": {},
   "source": [
    "### Continuous LR coexpression for significant spots\n",
    "\n",
    "The receptor is in green, the ligand is in red.\n",
    "The inner-point is the receptor, the outter point is the ligand.\n",
    "\n",
    "Help to see where and how heavily expressed ligands/receptors are. \n",
    "\n",
    "Idea is receptor is on the cell surface, & ligand permeates out from the cell surface."
   ]
  },
  {
   "cell_type": "code",
   "id": "e4226938",
   "metadata": {},
   "source": [
    "# All spots #\n",
    "st.pl.lr_plot(data, best_lr,\n",
    "              inner_size_prop=0.04, middle_size_prop=.07, outer_size_prop=.4,\n",
    "              outer_mode='continuous', pt_scale=60,\n",
    "              use_label=None, show_image=True,\n",
    "              sig_spots=False)"
   ],
   "outputs": [],
   "execution_count": null
  },
  {
   "cell_type": "code",
   "id": "cf391073",
   "metadata": {},
   "source": [
    "# Only significant spots #\n",
    "st.pl.lr_plot(data, best_lr,\n",
    "              inner_size_prop=0.04, middle_size_prop=.07, outer_size_prop=.4,\n",
    "              outer_mode='continuous', pt_scale=60,\n",
    "              use_label=None, show_image=True,\n",
    "              sig_spots=True)"
   ],
   "outputs": [],
   "execution_count": null
  },
  {
   "cell_type": "markdown",
   "id": "a8e2c91d",
   "metadata": {},
   "source": [
    "### Adding Arrows to show the Direction of Interaction\n",
    "This is only useful when zooming in and want to display cell information and direction of interaction at the same time. "
   ]
  },
  {
   "cell_type": "code",
   "id": "f294582d",
   "metadata": {},
   "source": [
    "st.pl.lr_plot(data, best_lr,\n",
    "              inner_size_prop=0.08, middle_size_prop=.3, outer_size_prop=.5,\n",
    "              outer_mode='binary', pt_scale=50,\n",
    "              show_image=True, arrow_width=10, arrow_head_width=10,\n",
    "              sig_spots=True, show_arrows=True)"
   ],
   "outputs": [],
   "execution_count": null
  },
  {
   "cell_type": "markdown",
   "id": "1599fc0c",
   "metadata": {},
   "source": [
    "### Binary LR coexpression with Spot Annotations\n",
    "\n",
    "We can also visualise where the ligand or receptor are expressed/coexpressed simultaneously with the dominant spot cell type.\n",
    "\n",
    "The outter spot shows the expression of ligand (red), the receptor (green), and coexpression (blue). \n",
    "The inner spot is coloured by the dominant spot cell type."
   ]
  },
  {
   "cell_type": "code",
   "id": "261a8abb",
   "metadata": {},
   "source": [
    "st.pl.lr_plot(data, best_lr,\n",
    "              inner_size_prop=0.08, middle_size_prop=.3, outer_size_prop=.5,\n",
    "              outer_mode='binary', pt_scale=150,\n",
    "              use_label='cell_type', show_image=True,\n",
    "              sig_spots=True)"
   ],
   "outputs": [],
   "execution_count": null
  },
  {
   "cell_type": "markdown",
   "id": "4d8288e7",
   "metadata": {},
   "source": [
    "## Predicting significant CCIs\n",
    "\n",
    "With the establishment of significant areas of LR interaction, can now determine the significantly interacting cell types."
   ]
  },
  {
   "cell_type": "code",
   "id": "2f3d4bb2",
   "metadata": {},
   "source": [
    "# Running the counting of co-occurence of cell types and LR expression hotspots #\n",
    "st.tl.cci.run_cci(data, 'cell_type', # Spot cell information either in data.obs or data.uns\n",
    "                  min_spots=3, # Minimum number of spots for LR to be tested.\n",
    "                  spot_mixtures=True, # If True will use the label transfer scores,\n",
    "                                      # so spots can have multiple cell types if score>cell_prop_cutoff\n",
    "                  cell_prop_cutoff=0.2, # Spot considered to have cell type if score>0.2\n",
    "                  sig_spots=True, # Only consider neighbourhoods of spots which had significant LR scores.\n",
    "                  n_perms=100 # Permutations of cell information to get background, recommend ~1000\n",
    "                 )"
   ],
   "outputs": [],
   "execution_count": null
  },
  {
   "cell_type": "markdown",
   "id": "c772d8a9",
   "metadata": {},
   "source": [
    "## Diagnostic plot: check interaction and cell type frequency correlation\n",
    "The plot below should show little to no correlation if the number of permutations is adequate; otherwise recommend increasing n_perms above."
   ]
  },
  {
   "cell_type": "code",
   "id": "d0a132f6",
   "metadata": {},
   "source": [
    "st.pl.cci_check(data, 'cell_type')"
   ],
   "outputs": [],
   "execution_count": null
  },
  {
   "cell_type": "markdown",
   "id": "d648ad5d",
   "metadata": {},
   "source": [
    "## CCI Visualisations\n",
    "\n",
    "With the celltype-celltype predictions completed, we implement a number of visualisations to explore the interaction landscape across LR pairs or for each independent pair. \n",
    "\n",
    "### CCI network\n",
    "The below shows the stlearn version of a CCI network. \n",
    "\n",
    "If you're more comfortable with visualisations in R, it's possible to save the adjacency matrix that generates this network from the anndata object and use visualisation functions from CellChat to make R-based visualisations."
   ]
  },
  {
   "cell_type": "code",
   "id": "d6a76162",
   "metadata": {},
   "source": [
    "# Visualising the no. of interactions between cell types across all LR pairs #\n",
    "pos_1 = st.pl.ccinet_plot(data, 'cell_type', return_pos=True)\n",
    "\n",
    "# Just examining the cell type interactions between selected pairs #\n",
    "lrs = data.uns['lr_summary'].index.values[0:3]\n",
    "for best_lr in lrs[0:3]:\n",
    "    st.pl.ccinet_plot(data, 'cell_type', best_lr, min_counts=2,\n",
    "                         figsize=(10,7.5), pos=pos_1,\n",
    "                      )"
   ],
   "outputs": [],
   "execution_count": null
  },
  {
   "cell_type": "markdown",
   "id": "ee1c6387",
   "metadata": {},
   "source": [
    "### CCI chord-plot\n",
    "The chord-plot is really useful when visualising interactions between few cell types"
   ]
  },
  {
   "cell_type": "code",
   "id": "bebe4ba4",
   "metadata": {},
   "source": [
    "st.pl.lr_chord_plot(data, 'cell_type')\n",
    "\n",
    "for lr in lrs:\n",
    "    st.pl.lr_chord_plot(data, 'cell_type', lr)"
   ],
   "outputs": [],
   "execution_count": null
  },
  {
   "cell_type": "markdown",
   "id": "a08fc87b",
   "metadata": {},
   "source": [
    "## Heatmap Visualisations\n",
    "\n",
    "### LR-CCI-Map\n",
    "We also impliment a number of heatmap visualisations so you can visualise individual celltype-celltype interactions across multiple LR pairs concurrently. "
   ]
  },
  {
   "cell_type": "code",
   "id": "937c66ec",
   "metadata": {},
   "source": [
    "# This will automatically select the top interacting CCIs and their respective LRs #\n",
    "st.pl.lr_cci_map(data, 'cell_type', lrs=None, min_total=100, figsize=(20,4))"
   ],
   "outputs": [],
   "execution_count": null
  },
  {
   "cell_type": "code",
   "id": "d137e97a",
   "metadata": {},
   "source": [
    "# You can also put in your own LR pairs of interest #\n",
    "st.pl.lr_cci_map(data, 'cell_type', lrs=lrs, min_total=100, figsize=(20,4))"
   ],
   "outputs": [],
   "execution_count": null
  },
  {
   "cell_type": "markdown",
   "id": "7743a003",
   "metadata": {},
   "source": [
    "### CCI Maps\n",
    "This is a heatmap equivalent to the network diagrams and chordplots, it has more quantitative benefits.\n",
    "\n",
    "The **# of interactions** refers to the number of times a spot with the reciever cell type expressed the ligand and the source cell type expressed the receptor in the same neighbourhood."
   ]
  },
  {
   "cell_type": "code",
   "id": "86382bda",
   "metadata": {},
   "source": [
    "st.pl.cci_map(data, 'cell_type')\n",
    "\n",
    "lrs = data.uns['lr_summary'].index.values[0:3]\n",
    "for lr in lrs[0:3]:\n",
    "    st.pl.cci_map(data, 'cell_type', lr)"
   ],
   "outputs": [],
   "execution_count": null
  },
  {
   "cell_type": "markdown",
   "id": "e190af09",
   "metadata": {},
   "source": [
    "## Spatial cell type interactions\n",
    "\n",
    "By combining the spatial LR analysis with the significant CCI from the CCI analysis, we can now visualise where in the tissue these cell types are interacting. \n",
    "\n",
    "The recommended method for this is to plot the cell types, and overlay arrows indicating spots that express the ligand and spots that express the receptor. \n",
    "\n",
    "This way can see **- at spot level in the spatial context -** where the different cell types interact and via a given ligand-receptor pair. \n",
    "\n",
    "NOTE: the will need to be zoom-in to be visualised properly, very useful for showing particular regions of interest."
   ]
  },
  {
   "cell_type": "code",
   "id": "449d33e3",
   "metadata": {},
   "source": [
    "best_lr = lrs[0]\n",
    "\n",
    "### This will plot with simple black arrows ####\n",
    "st.pl.lr_plot(data, best_lr, outer_size_prop=1, outer_mode=None,\n",
    "              pt_scale=40, use_label='cell_type', show_arrows=True,\n",
    "              show_image=True, sig_spots=False, sig_cci=True,\n",
    "                 arrow_head_width=4,\n",
    "                 arrow_width=1, cell_alpha=.8\n",
    "                 )\n",
    "\n",
    "### This will colour the spot by the mean LR expression in the spots connected by arrow\n",
    "st.pl.lr_plot(data, best_lr, outer_size_prop=1, outer_mode=None,\n",
    "              pt_scale=10, use_label='cell_type', show_arrows=True,\n",
    "              show_image=True, sig_spots=False, sig_cci=True,\n",
    "                 arrow_head_width=4, arrow_width=2,\n",
    "                 arrow_cmap='YlOrRd', arrow_vmax=1.5,\n",
    "                 )"
   ],
   "outputs": [],
   "execution_count": null
  },
  {
   "cell_type": "markdown",
   "id": "ee46960d",
   "metadata": {},
   "source": [
    "## Visualisation Tips\n",
    "\n",
    "CCIs in the spatial context are very high-dimensional and information rich. Which of the above visualisation will be useful will depend on the biology and key aspect you wish to highlight. \n",
    "\n",
    "In our experience, it's useful to show the LR statistics for LRs of interest, and then plot with the cell type information and the arrows. \n",
    "\n",
    "In the latter plot, it's best to highlight regions of interest (like the arrows above) which are then shown zoomed-in. Thus allowing you to highlight representative areas where interesting CCIs are predicted to occur. \n",
    "\n",
    "See the 'Interactive stLearn' tutorial to create such visualisations easily and rapidly using interactive bokeh apps."
   ]
  },
  {
   "cell_type": "markdown",
   "id": "55a83e9d-2f3c-4ad8-b387-0ac37c2824e1",
   "metadata": {},
   "source": [
    "<b>Tutorial by [Brad Balderson](https://github.com/BradBalderson)</b>"
   ]
  },
  {
   "cell_type": "code",
   "id": "8453f79c-e680-4307-8dbf-9d97b9a33064",
   "metadata": {},
   "source": [],
   "outputs": [],
   "execution_count": null
  }
 ],
 "metadata": {
  "kernelspec": {
   "display_name": "Python 3 (ipykernel)",
   "language": "python",
   "name": "python3"
  },
  "language_info": {
   "codemirror_mode": {
    "name": "ipython",
    "version": 3
   },
   "file_extension": ".py",
   "mimetype": "text/x-python",
   "name": "python",
   "nbconvert_exporter": "python",
   "pygments_lexer": "ipython3",
   "version": "3.8.15"
  }
 },
 "nbformat": 4,
 "nbformat_minor": 5
}
