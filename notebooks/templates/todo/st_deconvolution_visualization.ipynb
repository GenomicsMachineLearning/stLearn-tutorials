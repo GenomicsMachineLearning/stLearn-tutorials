{
 "cells": [
  {
   "cell_type": "markdown",
   "metadata": {},
   "source": [
    "## Spatial transcriptomics deconvolution visualization"
   ]
  },
  {
   "cell_type": "markdown",
   "metadata": {},
   "source": [
    "We support to visualize the scatterpie chart for any deconvolution or label transferring tools.\n",
    "\n",
    "Here we will describe how to use SPOTlight and Seurat Label transferring to visualize in stLearn"
   ]
  },
  {
   "cell_type": "markdown",
   "metadata": {},
   "source": [
    "### SPOTlight"
   ]
  },
  {
   "cell_type": "markdown",
   "metadata": {},
   "source": [
    "You can follow the tutorial of SPOTlight in their git repository: https://github.com/MarcElosua/SPOTlight\n",
    "\n",
    "After done the tutorial, you can run this `R` code to get `deconvolution_result.csv`"
   ]
  },
  {
   "cell_type": "code",
   "metadata": {},
   "source": [
    "# This is R code. You should run this after done SPOTlight tutorial\n",
    "\n",
    "tmp = as.data.frame(decon_mtrx)\n",
    "row.names(tmp) <- row.names(brain@meta.data)\n",
    "write.csv(t(tmp[1:(length(tmp)-1)]),\"deconvolution_result.csv\")"
   ],
   "outputs": [],
   "execution_count": null
  },
  {
   "cell_type": "markdown",
   "metadata": {},
   "source": [
    "Note that:\n",
    "- `brain` is the Seurat object of Spatial Transcriptomics\n",
    "- We save the `decon_mtrx` to .csv file as the input of our deconvolution visualization function"
   ]
  },
  {
   "cell_type": "markdown",
   "metadata": {},
   "source": [
    "### Seurat label transferring"
   ]
  },
  {
   "cell_type": "markdown",
   "metadata": {},
   "source": [
    "Seurat provided a vignette about spatial transcriptomics analysis (https://satijalab.org/seurat/v3.2/spatial_vignette.html).\n",
    "\n",
    "In the section: Integration with single-cell data, you can follow this to do the label transferring.\n",
    "\n",
    "After that, you can run this code in `R` to get the `deconvolution_result.csv`"
   ]
  },
  {
   "cell_type": "code",
   "metadata": {},
   "source": [
    "# This is R code. You should run this after done Integration with single-cell data tutorial\n",
    "\n",
    "write.csv(predictions.assay@data[-nrow(predictions.assay@data),],\"deconvolution_result.csv\")"
   ],
   "outputs": [],
   "execution_count": null
  },
  {
   "cell_type": "markdown",
   "metadata": {},
   "source": [
    "### Other software"
   ]
  },
  {
   "cell_type": "markdown",
   "metadata": {},
   "source": [
    "If you use other software, you should convert the result to this format:"
   ]
  },
  {
   "cell_type": "code",
   "metadata": {},
   "source": [
    "deconvolution_result"
   ],
   "outputs": [],
   "execution_count": null
  },
  {
   "cell_type": "markdown",
   "metadata": {},
   "source": [
    "Note:\n",
    "- Columns are spot barcode\n",
    "- Rows are labels\n",
    "- Values are the proportion or probability value"
   ]
  },
  {
   "cell_type": "markdown",
   "metadata": {},
   "source": [
    "### stLearn deconvolution visualization"
   ]
  },
  {
   "cell_type": "markdown",
   "metadata": {},
   "source": [
    "Running the basic analysis step of stLearn"
   ]
  },
  {
   "cell_type": "code",
   "metadata": {},
   "source": [
    "import stlearn as st"
   ],
   "outputs": [],
   "execution_count": null
  },
  {
   "cell_type": "code",
   "metadata": {},
   "source": [
    "data = st.Read10X(path=\"BRAIN_PATH\")\n",
    "data.var_names_make_unique()\n",
    "st.pp.filter_genes(data,min_cells=3)\n",
    "st.pp.normalize_total(data)\n",
    "st.pp.log1p(data)\n",
    "st.pp.scale(data)"
   ],
   "outputs": [],
   "execution_count": null
  },
  {
   "cell_type": "code",
   "metadata": {},
   "source": [
    "st.em.run_pca(data,n_comps=10,random_state=0)\n",
    "st.pp.neighbors(data,n_neighbors=15,use_rep='X_pca',random_state=0)\n",
    "st.tl.clustering.louvain(data,random_state=0)\n",
    "st.pl.cluster_plot(data,use_label=\"louvain\",image_alpha=1,size=7)"
   ],
   "outputs": [],
   "execution_count": null
  },
  {
   "cell_type": "markdown",
   "metadata": {},
   "source": [
    "Add annotation from other software and visualize it into a scatter pie plot with donut chart"
   ]
  },
  {
   "cell_type": "code",
   "metadata": {},
   "source": [
    "st.add.add_deconvolution(data,annotation_path=\"deconvolution_result.csv\")"
   ],
   "outputs": [],
   "execution_count": null
  },
  {
   "cell_type": "markdown",
   "metadata": {},
   "source": [
    "We also provide a `threshold` parameter that do the filtering based on quantile. The objective is removing the noise labels."
   ]
  },
  {
   "cell_type": "code",
   "metadata": {},
   "source": [
    "st.pl.deconvolution_plot(data,threshold=0.5)"
   ],
   "outputs": [],
   "execution_count": null
  },
  {
   "cell_type": "code",
   "metadata": {},
   "source": [
    "st.pl.deconvolution_plot(data,threshold=0.0)"
   ],
   "outputs": [],
   "execution_count": null
  },
  {
   "cell_type": "markdown",
   "metadata": {},
   "source": [
    "You also can examine the proportion of cell types in each cluster"
   ]
  },
  {
   "cell_type": "code",
   "metadata": {},
   "source": [
    "deconvolution_plot(data,cluster=9)"
   ],
   "outputs": [],
   "execution_count": null
  }
 ],
 "metadata": {
  "kernelspec": {
   "display_name": "Python 3",
   "language": "python",
   "name": "python3"
  },
  "language_info": {
   "codemirror_mode": {
    "name": "ipython",
    "version": 3
   },
   "file_extension": ".py",
   "mimetype": "text/x-python",
   "name": "python",
   "nbconvert_exporter": "python",
   "pygments_lexer": "ipython3",
   "version": "3.8.2"
  }
 },
 "nbformat": 4,
 "nbformat_minor": 4
}
