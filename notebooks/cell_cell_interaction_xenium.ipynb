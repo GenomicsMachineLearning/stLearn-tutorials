{
 "cells": [
  {
   "cell_type": "markdown",
   "id": "92534764",
   "metadata": {},
   "source": [
    "# Cell-Cell Interaction Analysis with Xenium Data\n",
    "\n",
    "This tutorial runs through stLearn CCI analysis on extremely large data, containing >166,000 single cells with gene expression measured in space. \n",
    "\n",
    "To increase computation speed, we grid the cells and perform stLearn CCI analysis while taking into account the proportion of different cell types detected per grid.\n",
    "\n",
    "### Environment setup"
   ]
  },
  {
   "cell_type": "code",
   "id": "f62b672b",
   "metadata": {},
   "source": [
    "import matplotlib.pyplot as plt\n",
    "import stlearn as st\n",
    "import pathlib as pathlib\n",
    "\n",
    "st.settings.set_figure_params(dpi=120)\n",
    "\n",
    "# Ignore all warnings\n",
    "import warnings\n",
    "\n",
    "warnings.filterwarnings(\"ignore\")"
   ],
   "outputs": [],
   "execution_count": null
  },
  {
   "cell_type": "markdown",
   "id": "6938d5cd",
   "metadata": {},
   "source": [
    "### Loading the data\n",
    "For this tutorial purpose, we don't perform the clustering. Please run the clustering method with the clustering tutorial or a part of spatial trajectory inference tutorial."
   ]
  },
  {
   "cell_type": "code",
   "id": "5d495bc3",
   "metadata": {},
   "source": [
    "# Setup download directory and get data\n",
    "st.settings.datasetdir =  pathlib.Path.cwd().parent / \"data\"\n",
    "library_id = \"Xenium_FFPE_Human_Breast_Cancer_Rep1\"\n",
    "data_dir = st.settings.datasetdir / \"Xenium_FFPE_Human_Breast_Cancer_Rep1\""
   ],
   "outputs": [],
   "execution_count": null
  },
  {
   "metadata": {},
   "cell_type": "code",
   "source": "st.datasets.xenium_sge(library_id=library_id, include_hires_tiff=True)",
   "id": "da701eaee54c58a4",
   "outputs": [],
   "execution_count": null
  },
  {
   "metadata": {},
   "cell_type": "code",
   "source": [
    "adata = st.ReadXenium(feature_cell_matrix_file=data_dir / \"cell_feature_matrix.h5\",\n",
    "                      cell_summary_file=data_dir / \"cells.csv.gz\",\n",
    "                      library_id=library_id,\n",
    "                      image_path=data_dir / \"he_image.ome.tif\",\n",
    "                      scale=1,\n",
    "                      spot_diameter_fullres=15,\n",
    "                      alignment_matrix_file=data_dir / \"he_imagealignment.csv\",\n",
    "                      experiment_xenium_file=data_dir / \"experiment.xenium\",\n",
    "                      )"
   ],
   "id": "66fdcd1d9a8c00dd",
   "outputs": [],
   "execution_count": null
  },
  {
   "metadata": {},
   "cell_type": "code",
   "source": [
    "# QC - Filter genes and cells with at least 10 counts\n",
    "st.pp.filter_genes(adata, min_counts=10)\n",
    "st.pp.filter_cells(adata, min_counts=10)"
   ],
   "id": "95de0bda772dec36",
   "outputs": [],
   "execution_count": null
  },
  {
   "metadata": {},
   "cell_type": "code",
   "source": "adata.X.toarray()",
   "id": "483781c6b31b03e7",
   "outputs": [],
   "execution_count": null
  },
  {
   "metadata": {},
   "cell_type": "code",
   "source": [
    "# Store the raw data for using PSTS\n",
    "adata.raw = adata"
   ],
   "id": "8dda5ddecafb94db",
   "outputs": [],
   "execution_count": null
  },
  {
   "metadata": {},
   "cell_type": "code",
   "source": [
    "# Run PCA, neighbors and clustering.\n",
    "st.em.run_pca(adata, n_comps=50, random_state=0)\n",
    "st.pp.neighbors(adata, n_neighbors=25, use_rep='X_pca', random_state=0)\n",
    "st.tl.clustering.louvain(adata, random_state=0)"
   ],
   "id": "ed41fa195119f7f8",
   "outputs": [],
   "execution_count": null
  },
  {
   "cell_type": "code",
   "id": "1e50aa99",
   "metadata": {},
   "source": [
    "st.pl.cluster_plot(adata, use_label=\"louvain\", image_alpha=0, size=4, figsize=(10, 10))"
   ],
   "outputs": [],
   "execution_count": null
  },
  {
   "cell_type": "markdown",
   "id": "e4553dce",
   "metadata": {},
   "source": [
    "## Note on normalisation\n",
    "\n",
    "No log1p or shrinking to make genes of similar expression range. In our case, for calling hotspots, we want genes to be more separate, since we select background genes with similar expression levels to detect hotspots."
   ]
  },
  {
   "cell_type": "code",
   "id": "9a64cbd7",
   "metadata": {},
   "source": [
    "#### Normalize total...\n",
    "st.pp.normalize_total(adata)"
   ],
   "outputs": [],
   "execution_count": null
  },
  {
   "metadata": {},
   "cell_type": "code",
   "source": "adata.X.toarray()",
   "id": "3f593d52dcd308db",
   "outputs": [],
   "execution_count": null
  },
  {
   "cell_type": "markdown",
   "id": "c9eff1af",
   "metadata": {},
   "source": [
    "## Gridding\n",
    "\n",
    "Now performing the gridding. The resolution chosen here may effect the results. The higher resolution, the better this represents the single cell data but the longer the computation takes.\n",
    "\n",
    "To summarise the gene expression across cells in a grid, we sum the library size normalised gene expression. Summing allows for representing the fact there are multiple cells in a given spot."
   ]
  },
  {
   "cell_type": "code",
   "id": "cfffdb0a",
   "metadata": {},
   "source": [
    "### Calculating the number of grid spots we will generate\n",
    "n_ = 125\n",
    "print(f'{n_} by {n_} has this many spots:\\n', n_ * n_)"
   ],
   "outputs": [],
   "execution_count": null
  },
  {
   "cell_type": "markdown",
   "id": "3d215ee8",
   "metadata": {},
   "source": [
    "By providing 'use_label' to the function below, the cell type information is saved as deconvolution information\n",
    "per spot, and also the dominant cell annotation. That way we can perform stLearn CCI with the cell type information!"
   ]
  },
  {
   "cell_type": "code",
   "id": "78be5b61",
   "metadata": {},
   "source": [
    "### Gridding.\n",
    "grid = st.tl.cci.grid(adata, n_row=n_, n_col=n_, use_label='louvain')\n",
    "print(grid.shape)  # Slightly less than the above calculation, since we filter out spots with 0 cells."
   ],
   "outputs": [],
   "execution_count": null
  },
  {
   "cell_type": "markdown",
   "id": "c7ba911d",
   "metadata": {},
   "source": [
    "### Checking the gridding\n",
    "\n",
    "Comparing the gridded data to the original, to make sure it makes sense.\n",
    "\n",
    "It's recommend to visualise the dominant cell types per spot, in order to gauge whether the tissue structure is adequately maintained after gridding (i.e. to make sure it is not too low resolution!)."
   ]
  },
  {
   "cell_type": "code",
   "id": "7958ccba",
   "metadata": {},
   "source": [
    "fig, axes = plt.subplots(ncols=2, figsize=(20, 8))\n",
    "st.pl.cluster_plot(grid, use_label='louvain', size=10, ax=axes[0], show_plot=False)\n",
    "st.pl.cluster_plot(adata, use_label='louvain', ax=axes[1], show_plot=False)\n",
    "axes[0].set_title(f'Grid louvain dominant spots')\n",
    "axes[1].set_title(f'Cell louvain labels')\n",
    "plt.show()"
   ],
   "outputs": [],
   "execution_count": null
  },
  {
   "cell_type": "code",
   "id": "ca39a27a",
   "metadata": {},
   "source": [
    "groups = list(grid.obs['louvain'].cat.categories)\n",
    "for group in groups[0:2]:\n",
    "    fig, axes = plt.subplots(ncols=3, figsize=(20, 8))\n",
    "    group_props = grid.uns['louvain'][group].values\n",
    "    grid.obs['group'] = group_props\n",
    "    st.pl.feat_plot(grid, feature='group', ax=axes[0], show_plot=False, vmax=1, show_color_bar=False)\n",
    "    st.pl.cluster_plot(grid, use_label='louvain', list_clusters=[group], ax=axes[1], show_plot=False)\n",
    "    st.pl.cluster_plot(adata, use_label='louvain', list_clusters=[group], ax=axes[2], show_plot=False)\n",
    "    axes[0].set_title(f'Grid {group} proportions (max = 1)')\n",
    "    axes[1].set_title(f'Grid {group} max spots')\n",
    "    axes[2].set_title(f'Individual cell {group}')\n",
    "    plt.show()"
   ],
   "outputs": [],
   "execution_count": null
  },
  {
   "cell_type": "code",
   "id": "86e88b38",
   "metadata": {},
   "source": [
    "fig, axes = plt.subplots(ncols=2, figsize=(20, 5))\n",
    "st.pl.gene_plot(grid, gene_symbols='CXCL12', ax=axes[0], show_color_bar=False, show_plot=False)\n",
    "st.pl.gene_plot(adata, gene_symbols='CXCL12', ax=axes[1], show_color_bar=False, show_plot=False, vmax=80)\n",
    "axes[0].set_title(f'Grid CXCL12 expression')\n",
    "axes[1].set_title(f'Cell CXLC12 expression')\n",
    "plt.show()"
   ],
   "outputs": [],
   "execution_count": null
  },
  {
   "cell_type": "markdown",
   "id": "ed310917",
   "metadata": {},
   "source": [
    "## LR Permutation Test\n",
    "\n",
    "Running the LR permutation test, to determine regions of high LR co-expression."
   ]
  },
  {
   "cell_type": "code",
   "id": "5bf28389",
   "metadata": {},
   "source": [
    "# Loading the LR databases available within stlearn (from NATMI)\n",
    "lrs = st.tl.cci.load_lrs(['connectomeDB2020_lit'], species='human')\n",
    "print(len(lrs))"
   ],
   "outputs": [],
   "execution_count": null
  },
  {
   "cell_type": "code",
   "id": "eb8ce454",
   "metadata": {},
   "source": [
    "# Running the analysis #\n",
    "st.tl.cci.run(grid, lrs,\n",
    "              min_spots=20,  # Filter out any LR pairs with no scores for less than min_spots\n",
    "              distance=250,  # None defaults to spot+immediate neighbours; distance=0 for within-spot mode\n",
    "              n_pairs=1000,  # Number of random pairs to generate; low as example, recommend ~10,000\n",
    "              n_cpus=None,   # Number of CPUs for parallel. If None, detects & use all available.\n",
    "              )"
   ],
   "outputs": [],
   "execution_count": null
  },
  {
   "cell_type": "code",
   "id": "65eef5b4",
   "metadata": {},
   "source": [
    "lr_info = grid.uns['lr_summary']  # A dataframe detailing the LR pairs ranked by number of significant spots.\n",
    "print(lr_info.shape)\n",
    "print(lr_info)"
   ],
   "outputs": [],
   "execution_count": null
  },
  {
   "cell_type": "code",
   "id": "44c097d9",
   "metadata": {},
   "source": [
    "# Showing the rankings of the LR from a global and local perspective.\n",
    "# Ranking based on number of significant hotspots.\n",
    "st.pl.lr_summary(grid, n_top=500)\n",
    "st.pl.lr_summary(grid, n_top=50, figsize=(10, 3))"
   ],
   "outputs": [],
   "execution_count": null
  },
  {
   "cell_type": "code",
   "id": "4d51351d",
   "metadata": {},
   "source": [
    "### Can adjust significance thresholds.\n",
    "st.tl.cci.adj_pvals(grid, correct_axis='spot',\n",
    "                    pval_adj_cutoff=0.05, adj_method='fdr_bh')"
   ],
   "outputs": [],
   "execution_count": null
  },
  {
   "cell_type": "markdown",
   "id": "2c450ef5",
   "metadata": {},
   "source": [
    "### Downstream visualisations from LR analsyis\n",
    "\n",
    "For more downstream visualisations, please see the stLearn CCI tutorial:\n",
    "\n",
    "https://stlearn.readthedocs.io/en/latest/tutorials/stLearn-CCI.html"
   ]
  },
  {
   "cell_type": "code",
   "id": "78b0d5da",
   "metadata": {},
   "source": "best_lr = grid.uns['lr_summary'].index.values[0]  # Just choosing one of the top from lr_summary",
   "outputs": [],
   "execution_count": null
  },
  {
   "cell_type": "code",
   "id": "5a8afb48",
   "metadata": {},
   "source": [
    "stats = ['lr_scores', '-log10(p_adjs)', 'lr_sig_scores']\n",
    "fig, axes = plt.subplots(ncols=len(stats), figsize=(12, 6))\n",
    "for i, stat in enumerate(stats):\n",
    "    st.pl.lr_result_plot(grid, use_result=stat, use_lr=best_lr, show_color_bar=False, ax=axes[i])\n",
    "    axes[i].set_title(f'{best_lr} {stat}')"
   ],
   "outputs": [],
   "execution_count": null
  },
  {
   "cell_type": "markdown",
   "id": "81a7861d",
   "metadata": {},
   "source": [
    "## Predicting Significant Cell-Cell Interactions\n",
    "\n",
    "For this analysis, we are using within-spot mode, with the deconvolution information which is stored in grid.uns, as automatically determined by st.tl.cci.grid. The permutation is performed to permute the cell proportions associated with each spot, to determine spots located in LR hotspots that have certain cell types over-represented."
   ]
  },
  {
   "cell_type": "code",
   "id": "94cdc571-ca8c-4841-8e87-326b7ed4d6fb",
   "metadata": {},
   "source": [
    "grid"
   ],
   "outputs": [],
   "execution_count": null
  },
  {
   "cell_type": "code",
   "id": "00d2324b-93ce-4628-b914-8e6024943a66",
   "metadata": {},
   "source": [
    "st.tl.cci.run_cci(grid, 'louvain',  # Spot cell information either in data.obs or data.uns\n",
    "                  min_spots=2,  # Minimum number of spots for LR to be tested.\n",
    "                  spot_mixtures=True,  # If True will use the deconvolution data,\n",
    "                  # so spots can have multiple cell types if score>cell_prop_cutoff\n",
    "                  cell_prop_cutoff=0.1,  # Spot considered to have cell type if score>0.1\n",
    "                  sig_spots=True,  # Only consider neighbourhoods of spots which had significant LR scores.\n",
    "                  n_perms=100,  # Permutations of cell information to get background, recommend ~1000\n",
    "                  n_cpus=None,\n",
    "                  )"
   ],
   "outputs": [],
   "execution_count": null
  },
  {
   "cell_type": "code",
   "id": "764617d0",
   "metadata": {},
   "source": [
    "st.tl.cci.run_cci(grid, 'louvain',  # Spot cell information either in data.obs or data.uns\n",
    "                  min_spots=2,  # Minimum number of spots for LR to be tested.\n",
    "                  spot_mixtures=True,  # If True will use the deconvolution data,\n",
    "                  # so spots can have multiple cell types if score>cell_prop_cutoff\n",
    "                  cell_prop_cutoff=0.1,  # Spot considered to have cell type if score>0.1\n",
    "                  sig_spots=True,  # Only consider neighbourhoods of spots which had significant LR scores.\n",
    "                  n_perms=100,  # Permutations of cell information to get background, recommend ~1000\n",
    "                  n_cpus=10,\n",
    "                  )"
   ],
   "outputs": [],
   "execution_count": null
  },
  {
   "cell_type": "markdown",
   "id": "be29b177",
   "metadata": {},
   "source": [
    "## Diagnostic: checking for interaction and cell type frequency correlation\n",
    "\n",
    "Should be little to no correlation; indicating the permutation has adequately controlled for cell type frequency."
   ]
  },
  {
   "cell_type": "code",
   "id": "e6d1ee1c-c168-4aef-adc8-59e3f6f98ecb",
   "metadata": {},
   "source": "st.pl.cci_check(grid, 'louvain', figsize=(16, 5))",
   "outputs": [],
   "execution_count": null
  },
  {
   "cell_type": "markdown",
   "id": "6ed0ed28",
   "metadata": {},
   "source": [
    "## CCI Visualisations"
   ]
  },
  {
   "cell_type": "markdown",
   "id": "0ea53526",
   "metadata": {},
   "source": [
    "### CCI Network Plot"
   ]
  },
  {
   "cell_type": "code",
   "id": "564ba765",
   "metadata": {
    "scrolled": true
   },
   "source": [
    "# Visualising the no. of interactions between cell types across all LR pairs #\n",
    "pos_1 = st.pl.ccinet_plot(grid, 'louvain', return_pos=True, min_counts=30)\n",
    "\n",
    "# Just examining the cell type interactions between selected pairs #\n",
    "lrs = grid.uns['lr_summary'].index.values[0:3]\n",
    "for best_lr in lrs[0:2]:\n",
    "    st.pl.ccinet_plot(grid, 'louvain', best_lr, min_counts=2,\n",
    "                      figsize=(10, 7.5), pos=pos_1,\n",
    "                      )"
   ],
   "outputs": [],
   "execution_count": null
  },
  {
   "cell_type": "markdown",
   "id": "6cc0d2de",
   "metadata": {},
   "source": [
    "### CCI Chord Plot"
   ]
  },
  {
   "cell_type": "code",
   "id": "a86bcfe3",
   "metadata": {
    "scrolled": true
   },
   "source": [
    "st.pl.lr_chord_plot(grid, 'louvain')\n",
    "\n",
    "for lr in lrs[0:2]:\n",
    "    st.pl.lr_chord_plot(grid, 'louvain', lr)"
   ],
   "outputs": [],
   "execution_count": null
  },
  {
   "cell_type": "markdown",
   "id": "1360eef6",
   "metadata": {},
   "source": [
    "### For additional visualisations and visualisation tips, please see:\n",
    "\n",
    "   https://stlearn.readthedocs.io/en/latest/tutorials/stLearn-CCI.html \n",
    "   \n",
    "<b>Tutorial by [Brad Balderson](https://github.com/BradBalderson)</b>"
   ]
  },
  {
   "cell_type": "markdown",
   "id": "b4514260-00a9-4b08-a2ca-670262b14a78",
   "metadata": {},
   "source": [
    "### Acknowledgement\n",
    "We would like to thank Soo Hee Lee and 10X Genomics team for their able support, contribution and feedback to this tutorial"
   ]
  }
 ],
 "metadata": {
  "kernelspec": {
   "display_name": "Python 3 (ipykernel)",
   "language": "python",
   "name": "python3"
  },
  "language_info": {
   "codemirror_mode": {
    "name": "ipython",
    "version": 3
   },
   "file_extension": ".py",
   "mimetype": "text/x-python",
   "name": "python",
   "nbconvert_exporter": "python",
   "pygments_lexer": "ipython3",
   "version": "3.8.13"
  }
 },
 "nbformat": 4,
 "nbformat_minor": 5
}
