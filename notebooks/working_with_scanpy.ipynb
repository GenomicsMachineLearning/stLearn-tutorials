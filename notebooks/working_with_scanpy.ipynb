{
 "cells": [
  {
   "cell_type": "markdown",
   "metadata": {},
   "source": "# Working with scanpy Package"
  },
  {
   "cell_type": "markdown",
   "metadata": {},
   "source": [
    "Scanpy is a one of the best toolkit for single-cell RNA sequencing data analysis in Python. stLearn is created based on a part of scanpy and also our tool is partially compatible with scanpy. \n",
    "\n",
    "We recommend to use both scanpy and stLearn for the analysis."
   ]
  },
  {
   "cell_type": "markdown",
   "metadata": {},
   "source": [
    "### Convert AnnData from scanpy to work with stLearn function"
   ]
  },
  {
   "cell_type": "markdown",
   "metadata": {},
   "source": [
    "stLearn also uses the AnnData as the core object like scanpy. However, we store the spatial data in different way. \n",
    "\n",
    "Then if you read data by scanpy, you need to convert to stLearn AnnData format. But if you read the data by stLearn, you can use almost of all functions from scanpy."
   ]
  },
  {
   "cell_type": "code",
   "metadata": {},
   "source": [
    "import stlearn as st\n",
    "import scanpy as sc\n",
    "import pathlib as pathlib"
   ],
   "outputs": [],
   "execution_count": null
  },
  {
   "cell_type": "code",
   "metadata": {},
   "source": [
    "# Read Visium data by scanpy\n",
    "st.settings.datasetdir =  pathlib.Path.cwd().parent / \"data\"\n",
    "adata = sc.datasets.visium_sge()"
   ],
   "outputs": [],
   "execution_count": null
  },
  {
   "cell_type": "code",
   "metadata": {},
   "source": [
    "adata"
   ],
   "outputs": [],
   "execution_count": null
  },
  {
   "cell_type": "code",
   "metadata": {},
   "source": [
    "# Convert AnnData object to work with stLearn\n",
    "adata = st.convert_scanpy(adata)"
   ],
   "outputs": [],
   "execution_count": null
  },
  {
   "cell_type": "code",
   "metadata": {},
   "source": [
    "adata"
   ],
   "outputs": [],
   "execution_count": null
  },
  {
   "cell_type": "markdown",
   "metadata": {},
   "source": [
    "After that you can work with all functions in scanpy and please check their tutorials for the detail processes."
   ]
  }
 ],
 "metadata": {
  "kernelspec": {
   "display_name": "Python 3",
   "language": "python",
   "name": "python3"
  },
  "language_info": {
   "codemirror_mode": {
    "name": "ipython",
    "version": 3
   },
   "file_extension": ".py",
   "mimetype": "text/x-python",
   "name": "python",
   "nbconvert_exporter": "python",
   "pygments_lexer": "ipython3",
   "version": "3.8.2"
  }
 },
 "nbformat": 4,
 "nbformat_minor": 4
}
